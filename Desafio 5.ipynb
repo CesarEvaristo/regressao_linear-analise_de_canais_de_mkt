{
 "cells": [
  {
   "cell_type": "code",
   "execution_count": 495,
   "id": "0e6f5b10",
   "metadata": {},
   "outputs": [],
   "source": [
    "#Importando as bibliotecas\n",
    "import pandas as pd #Visualizações e manipulações dos dfs.\n",
    "import numpy as np #Visualizações e manipulações dos arrays.\n",
    "\n",
    "#Visualizações \n",
    "import matplotlib.pyplot as plt\n",
    "import seaborn as sns\n",
    "import plotly.express as px\n",
    "\n",
    "import statsmodels.api as sm #Análise estatística e modelagem estatística.\n",
    "from sklearn.model_selection import train_test_split #Separar os dados em treino e teste.\n",
    "from sklearn.linear_model import LinearRegression #Regressão linear com Scikit-learn\n",
    "from sklearn import metrics #Calcular as métricas de desempenho do modelo\n",
    "\n",
    "from sklearn.ensemble import RandomForestRegressor, AdaBoostRegressor, GradientBoostingRegressor #Construção dos ensembles de regressão"
   ]
  },
  {
   "cell_type": "code",
   "execution_count": 496,
   "id": "9a2c8559",
   "metadata": {},
   "outputs": [
    {
     "data": {
      "text/html": [
       "<div>\n",
       "<style scoped>\n",
       "    .dataframe tbody tr th:only-of-type {\n",
       "        vertical-align: middle;\n",
       "    }\n",
       "\n",
       "    .dataframe tbody tr th {\n",
       "        vertical-align: top;\n",
       "    }\n",
       "\n",
       "    .dataframe thead th {\n",
       "        text-align: right;\n",
       "    }\n",
       "</style>\n",
       "<table border=\"1\" class=\"dataframe\">\n",
       "  <thead>\n",
       "    <tr style=\"text-align: right;\">\n",
       "      <th></th>\n",
       "      <th>youtube</th>\n",
       "      <th>facebook</th>\n",
       "      <th>newspaper</th>\n",
       "      <th>sales</th>\n",
       "    </tr>\n",
       "  </thead>\n",
       "  <tbody>\n",
       "    <tr>\n",
       "      <th>0</th>\n",
       "      <td>84.72</td>\n",
       "      <td>19.20</td>\n",
       "      <td>48.96</td>\n",
       "      <td>12.60</td>\n",
       "    </tr>\n",
       "    <tr>\n",
       "      <th>1</th>\n",
       "      <td>351.48</td>\n",
       "      <td>33.96</td>\n",
       "      <td>51.84</td>\n",
       "      <td>25.68</td>\n",
       "    </tr>\n",
       "    <tr>\n",
       "      <th>2</th>\n",
       "      <td>135.48</td>\n",
       "      <td>20.88</td>\n",
       "      <td>46.32</td>\n",
       "      <td>14.28</td>\n",
       "    </tr>\n",
       "    <tr>\n",
       "      <th>3</th>\n",
       "      <td>116.64</td>\n",
       "      <td>1.80</td>\n",
       "      <td>36.00</td>\n",
       "      <td>11.52</td>\n",
       "    </tr>\n",
       "    <tr>\n",
       "      <th>4</th>\n",
       "      <td>318.72</td>\n",
       "      <td>24.00</td>\n",
       "      <td>0.36</td>\n",
       "      <td>20.88</td>\n",
       "    </tr>\n",
       "  </tbody>\n",
       "</table>\n",
       "</div>"
      ],
      "text/plain": [
       "   youtube  facebook  newspaper  sales\n",
       "0    84.72     19.20      48.96  12.60\n",
       "1   351.48     33.96      51.84  25.68\n",
       "2   135.48     20.88      46.32  14.28\n",
       "3   116.64      1.80      36.00  11.52\n",
       "4   318.72     24.00       0.36  20.88"
      ]
     },
     "execution_count": 496,
     "metadata": {},
     "output_type": "execute_result"
    }
   ],
   "source": [
    "#Importando o Dataset\n",
    "\n",
    "mkt = pd.read_csv(r'C:\\Users\\cesar\\Desktop\\Data Student\\DNC\\Desafios\\Desafio_4\\MKT.csv')\n",
    "mkt.head()"
   ]
  },
  {
   "cell_type": "markdown",
   "id": "4d473c54",
   "metadata": {},
   "source": [
    "# 1. Análise Descritiva"
   ]
  },
  {
   "cell_type": "code",
   "execution_count": 497,
   "id": "b5978714",
   "metadata": {},
   "outputs": [
    {
     "name": "stdout",
     "output_type": "stream",
     "text": [
      "<class 'pandas.core.frame.DataFrame'>\n",
      "RangeIndex: 171 entries, 0 to 170\n",
      "Data columns (total 4 columns):\n",
      " #   Column     Non-Null Count  Dtype  \n",
      "---  ------     --------------  -----  \n",
      " 0   youtube    171 non-null    float64\n",
      " 1   facebook   171 non-null    float64\n",
      " 2   newspaper  171 non-null    float64\n",
      " 3   sales      171 non-null    float64\n",
      "dtypes: float64(4)\n",
      "memory usage: 5.5 KB\n"
     ]
    }
   ],
   "source": [
    "mkt.info()"
   ]
  },
  {
   "cell_type": "markdown",
   "id": "dddba6a2",
   "metadata": {},
   "source": [
    "De acordo com o as informações apresentadas acima, o nosso conjunto de dados não apresenta dados nulos. E as 4 colunas estão no tipo correto."
   ]
  },
  {
   "cell_type": "code",
   "execution_count": 498,
   "id": "274acb7d",
   "metadata": {},
   "outputs": [
    {
     "name": "stdout",
     "output_type": "stream",
     "text": [
      "Existe 0 linhas duplicadas no df.\n"
     ]
    }
   ],
   "source": [
    "#Verificando o nº de linhas duplicadas\n",
    "\n",
    "print('Existe',mkt.duplicated().sum(),'linhas duplicadas no df.')"
   ]
  },
  {
   "cell_type": "code",
   "execution_count": 499,
   "id": "fe911c11",
   "metadata": {},
   "outputs": [
    {
     "data": {
      "text/html": [
       "<div>\n",
       "<style scoped>\n",
       "    .dataframe tbody tr th:only-of-type {\n",
       "        vertical-align: middle;\n",
       "    }\n",
       "\n",
       "    .dataframe tbody tr th {\n",
       "        vertical-align: top;\n",
       "    }\n",
       "\n",
       "    .dataframe thead th {\n",
       "        text-align: right;\n",
       "    }\n",
       "</style>\n",
       "<table border=\"1\" class=\"dataframe\">\n",
       "  <thead>\n",
       "    <tr style=\"text-align: right;\">\n",
       "      <th></th>\n",
       "      <th>youtube</th>\n",
       "      <th>facebook</th>\n",
       "      <th>newspaper</th>\n",
       "      <th>sales</th>\n",
       "    </tr>\n",
       "  </thead>\n",
       "  <tbody>\n",
       "    <tr>\n",
       "      <th>count</th>\n",
       "      <td>171.000000</td>\n",
       "      <td>171.000000</td>\n",
       "      <td>171.000000</td>\n",
       "      <td>171.000000</td>\n",
       "    </tr>\n",
       "    <tr>\n",
       "      <th>mean</th>\n",
       "      <td>178.021053</td>\n",
       "      <td>27.671579</td>\n",
       "      <td>35.240000</td>\n",
       "      <td>16.922807</td>\n",
       "    </tr>\n",
       "    <tr>\n",
       "      <th>std</th>\n",
       "      <td>102.449597</td>\n",
       "      <td>17.913532</td>\n",
       "      <td>24.902918</td>\n",
       "      <td>6.314608</td>\n",
       "    </tr>\n",
       "    <tr>\n",
       "      <th>min</th>\n",
       "      <td>0.840000</td>\n",
       "      <td>0.000000</td>\n",
       "      <td>0.360000</td>\n",
       "      <td>1.920000</td>\n",
       "    </tr>\n",
       "    <tr>\n",
       "      <th>25%</th>\n",
       "      <td>91.080000</td>\n",
       "      <td>11.700000</td>\n",
       "      <td>13.740000</td>\n",
       "      <td>12.540000</td>\n",
       "    </tr>\n",
       "    <tr>\n",
       "      <th>50%</th>\n",
       "      <td>179.760000</td>\n",
       "      <td>26.760000</td>\n",
       "      <td>31.080000</td>\n",
       "      <td>15.480000</td>\n",
       "    </tr>\n",
       "    <tr>\n",
       "      <th>75%</th>\n",
       "      <td>262.980000</td>\n",
       "      <td>43.680000</td>\n",
       "      <td>50.880000</td>\n",
       "      <td>20.820000</td>\n",
       "    </tr>\n",
       "    <tr>\n",
       "      <th>max</th>\n",
       "      <td>355.680000</td>\n",
       "      <td>59.520000</td>\n",
       "      <td>121.080000</td>\n",
       "      <td>32.400000</td>\n",
       "    </tr>\n",
       "  </tbody>\n",
       "</table>\n",
       "</div>"
      ],
      "text/plain": [
       "          youtube    facebook   newspaper       sales\n",
       "count  171.000000  171.000000  171.000000  171.000000\n",
       "mean   178.021053   27.671579   35.240000   16.922807\n",
       "std    102.449597   17.913532   24.902918    6.314608\n",
       "min      0.840000    0.000000    0.360000    1.920000\n",
       "25%     91.080000   11.700000   13.740000   12.540000\n",
       "50%    179.760000   26.760000   31.080000   15.480000\n",
       "75%    262.980000   43.680000   50.880000   20.820000\n",
       "max    355.680000   59.520000  121.080000   32.400000"
      ]
     },
     "execution_count": 499,
     "metadata": {},
     "output_type": "execute_result"
    }
   ],
   "source": [
    "mkt.describe()"
   ]
  },
  {
   "cell_type": "markdown",
   "id": "41d0558d",
   "metadata": {},
   "source": [
    "A partir da descrição acima podemos visualizar algumas informações importantes, como média dos valores por variável, desvio padrão, valor mínimo e máximo, e outros.  \n",
    "Percebemos que a mídia que recebe maior investimento é o youtube, e que os valores investidos estão bem superiores aos faturamentos com as vendas."
   ]
  },
  {
   "cell_type": "markdown",
   "id": "ae8a8d6d",
   "metadata": {},
   "source": [
    "# 02. Análise Exploratória"
   ]
  },
  {
   "cell_type": "code",
   "execution_count": 500,
   "id": "299817e4",
   "metadata": {},
   "outputs": [
    {
     "data": {
      "image/png": "[encoded data removed]",
      "text/plain": [
       "<Figure size 700x200 with 3 Axes>"
      ]
     },
     "metadata": {},
     "output_type": "display_data"
    },
    {
     "data": {
      "image/png": "[encoded data removed]",
      "text/plain": [
       "<Figure size 600x400 with 1 Axes>"
      ]
     },
     "metadata": {},
     "output_type": "display_data"
    }
   ],
   "source": [
    "# Plotando a distribuição dos valores\n",
    "\n",
    "fig, axes = plt.subplots(nrows=1, ncols=3, figsize=(7,2))\n",
    "\n",
    "sns.histplot(data=mkt, x=\"youtube\", ax= axes[0], kde=True, color='r')\n",
    "sns.histplot(data=mkt, x=\"facebook\", ax= axes[1], kde=True, color='b')\n",
    "sns.histplot(data=mkt, x=\"newspaper\", ax= axes[2], kde=True, color='g')\n",
    "plt.show()\n",
    "\n",
    "plt.figure(figsize=(6,4))\n",
    "sns.histplot(data=mkt, x=\"sales\", kde=True, color='y')\n",
    "plt.title('Vendas')\n",
    "plt.show()"
   ]
  },
  {
   "cell_type": "markdown",
   "id": "77afcddb",
   "metadata": {},
   "source": [
    "### Análise histogramas:  \n",
    "Os histogramas acima apresentam uma visão sobre a distribuição dos valores de cada variável.  \n",
    "**Youtube:** Maiores investimentos, e tem distribuição equilibrada em vários valores. Não apresenta uma tendência de investimento.  \n",
    "**Facebook:**  Menores investimentos, e tem distribuição equilibrada em vários valores. Não apresenta uma tendência de investimento.  \n",
    "**Newspaper:** Apresenta uma tendência de investimentos a esquerda, com valores inferiores."
   ]
  },
  {
   "cell_type": "markdown",
   "id": "d5de0649",
   "metadata": {},
   "source": [
    "## Outliers"
   ]
  },
  {
   "cell_type": "code",
   "execution_count": 501,
   "id": "c2441201",
   "metadata": {},
   "outputs": [
    {
     "data": {
      "application/vnd.plotly.v1+json": {
       "config": {
        "plotlyServerURL": "https://plot.ly"
       },
       "data": [
        {
         "alignmentgroup": "True",
         "boxpoints": "all",
         "hovertemplate": "variable=%{x}<br>value=%{y}<extra></extra>",
         "legendgroup": "",
         "marker": {
          "color": "#636efa"
         },
         "name": "",
         "notched": false,
         "offsetgroup": "",
         "orientation": "v",
         "showlegend": false,
         "type": "box",
         "x": [
          "youtube",
          "youtube",
          "youtube",
          "youtube",
          "youtube",
          "youtube",
          "youtube",
          "youtube",
          "youtube",
          "youtube",
          "youtube",
          "youtube",
          "youtube",
          "youtube",
          "youtube",
          "youtube",
          "youtube",
          "youtube",
          "youtube",
          "youtube",
          "youtube",
          "youtube",
          "youtube",
          "youtube",
          "youtube",
          "youtube",
          "youtube",
          "youtube",
          "youtube",
          "youtube",
          "youtube",
          "youtube",
          "youtube",
          "youtube",
          "youtube",
          "youtube",
          "youtube",
          "youtube",
          "youtube",
          "youtube",
          "youtube",
          "youtube",
          "youtube",
          "youtube",
          "youtube",
          "youtube",
          "youtube",
          "youtube",
          "youtube",
          "youtube",
          "youtube",
          "youtube",
          "youtube",
          "youtube",
          "youtube",
          "youtube",
          "youtube",
          "youtube",
          "youtube",
          "youtube",
          "youtube",
          "youtube",
          "youtube",
          "youtube",
          "youtube",
          "youtube",
          "youtube",
          "youtube",
          "youtube",
          "youtube",
          "youtube",
          "youtube",
          "youtube",
          "youtube",
          "youtube",
          "youtube",
          "youtube",
          "youtube",
          "youtube",
          "youtube",
          "youtube",
          "youtube",
          "youtube",
          "youtube",
          "youtube",
          "youtube",
          "youtube",
          "youtube",
          "youtube",
          "youtube",
          "youtube",
          "youtube",
          "youtube",
          "youtube",
          "youtube",
          "youtube",
          "youtube",
          "youtube",
          "youtube",
          "youtube",
          "youtube",
          "youtube",
          "youtube",
          "youtube",
          "youtube",
          "youtube",
          "youtube",
          "youtube",
          "youtube",
          "youtube",
          "youtube",
          "youtube",
          "youtube",
          "youtube",
          "youtube",
          "youtube",
          "youtube",
          "youtube",
          "youtube",
          "youtube",
          "youtube",
          "youtube",
          "youtube",
          "youtube",
          "youtube",
          "youtube",
          "youtube",
          "youtube",
          "youtube",
          "youtube",
          "youtube",
          "youtube",
          "youtube",
          "youtube",
          "youtube",
          "youtube",
          "youtube",
          "youtube",
          "youtube",
          "youtube",
          "youtube",
          "youtube",
          "youtube",
          "youtube",
          "youtube",
          "youtube",
          "youtube",
          "youtube",
          "youtube",
          "youtube",
          "youtube",
          "youtube",
          "youtube",
          "youtube",
          "youtube",
          "youtube",
          "youtube",
          "youtube",
          "youtube",
          "youtube",
          "youtube",
          "youtube",
          "youtube",
          "youtube",
          "youtube",
          "youtube",
          "youtube",
          "youtube",
          "youtube",
          "youtube",
          "youtube",
          "facebook",
          "facebook",
          "facebook",
          "facebook",
          "facebook",
          "facebook",
          "facebook",
          "facebook",
          "facebook",
          "facebook",
          "facebook",
          "facebook",
          "facebook",
          "facebook",
          "facebook",
          "facebook",
          "facebook",
          "facebook",
          "facebook",
          "facebook",
          "facebook",
          "facebook",
          "facebook",
          "facebook",
          "facebook",
          "facebook",
          "facebook",
          "facebook",
          "facebook",
          "facebook",
          "facebook",
          "facebook",
          "facebook",
          "facebook",
          "facebook",
          "facebook",
          "facebook",
          "facebook",
          "facebook",
          "facebook",
          "facebook",
          "facebook",
          "facebook",
          "facebook",
          "facebook",
          "facebook",
          "facebook",
          "facebook",
          "facebook",
          "facebook",
          "facebook",
          "facebook",
          "facebook",
          "facebook",
          "facebook",
          "facebook",
          "facebook",
          "facebook",
          "facebook",
          "facebook",
          "facebook",
          "facebook",
          "facebook",
          "facebook",
          "facebook",
          "facebook",
          "facebook",
          "facebook",
          "facebook",
          "facebook",
          "facebook",
          "facebook",
          "facebook",
          "facebook",
          "facebook",
          "facebook",
          "facebook",
          "facebook",
          "facebook",
          "facebook",
          "facebook",
          "facebook",
          "facebook",
          "facebook",
          "facebook",
          "facebook",
          "facebook",
          "facebook",
          "facebook",
          "facebook",
          "facebook",
          "facebook",
          "facebook",
          "facebook",
          "facebook",
          "facebook",
          "facebook",
          "facebook",
          "facebook",
          "facebook",
          "facebook",
          "facebook",
          "facebook",
          "facebook",
          "facebook",
          "facebook",
          "facebook",
          "facebook",
          "facebook",
          "facebook",
          "facebook",
          "facebook",
          "facebook",
          "facebook",
          "facebook",
          "facebook",
          "facebook",
          "facebook",
          "facebook",
          "facebook",
          "facebook",
          "facebook",
          "facebook",
          "facebook",
          "facebook",
          "facebook",
          "facebook",
          "facebook",
          "facebook",
          "facebook",
          "facebook",
          "facebook",
          "facebook",
          "facebook",
          "facebook",
          "facebook",
          "facebook",
          "facebook",
          "facebook",
          "facebook",
          "facebook",
          "facebook",
          "facebook",
          "facebook",
          "facebook",
          "facebook",
          "facebook",
          "facebook",
          "facebook",
          "facebook",
          "facebook",
          "facebook",
          "facebook",
          "facebook",
          "facebook",
          "facebook",
          "facebook",
          "facebook",
          "facebook",
          "facebook",
          "facebook",
          "facebook",
          "facebook",
          "facebook",
          "facebook",
          "facebook",
          "facebook",
          "facebook",
          "facebook",
          "facebook",
          "facebook",
          "newspaper",
          "newspaper",
          "newspaper",
          "newspaper",
          "newspaper",
          "newspaper",
          "newspaper",
          "newspaper",
          "newspaper",
          "newspaper",
          "newspaper",
          "newspaper",
          "newspaper",
          "newspaper",
          "newspaper",
          "newspaper",
          "newspaper",
          "newspaper",
          "newspaper",
          "newspaper",
          "newspaper",
          "newspaper",
          "newspaper",
          "newspaper",
          "newspaper",
          "newspaper",
          "newspaper",
          "newspaper",
          "newspaper",
          "newspaper",
          "newspaper",
          "newspaper",
          "newspaper",
          "newspaper",
          "newspaper",
          "newspaper",
          "newspaper",
          "newspaper",
          "newspaper",
          "newspaper",
          "newspaper",
          "newspaper",
          "newspaper",
          "newspaper",
          "newspaper",
          "newspaper",
          "newspaper",
          "newspaper",
          "newspaper",
          "newspaper",
          "newspaper",
          "newspaper",
          "newspaper",
          "newspaper",
          "newspaper",
          "newspaper",
          "newspaper",
          "newspaper",
          "newspaper",
          "newspaper",
          "newspaper",
          "newspaper",
          "newspaper",
          "newspaper",
          "newspaper",
          "newspaper",
          "newspaper",
          "newspaper",
          "newspaper",
          "newspaper",
          "newspaper",
          "newspaper",
          "newspaper",
          "newspaper",
          "newspaper",
          "newspaper",
          "newspaper",
          "newspaper",
          "newspaper",
          "newspaper",
          "newspaper",
          "newspaper",
          "newspaper",
          "newspaper",
          "newspaper",
          "newspaper",
          "newspaper",
          "newspaper",
          "newspaper",
          "newspaper",
          "newspaper",
          "newspaper",
          "newspaper",
          "newspaper",
          "newspaper",
          "newspaper",
          "newspaper",
          "newspaper",
          "newspaper",
          "newspaper",
          "newspaper",
          "newspaper",
          "newspaper",
          "newspaper",
          "newspaper",
          "newspaper",
          "newspaper",
          "newspaper",
          "newspaper",
          "newspaper",
          "newspaper",
          "newspaper",
          "newspaper",
          "newspaper",
          "newspaper",
          "newspaper",
          "newspaper",
          "newspaper",
          "newspaper",
          "newspaper",
          "newspaper",
          "newspaper",
          "newspaper",
          "newspaper",
          "newspaper",
          "newspaper",
          "newspaper",
          "newspaper",
          "newspaper",
          "newspaper",
          "newspaper",
          "newspaper",
          "newspaper",
          "newspaper",
          "newspaper",
          "newspaper",
          "newspaper",
          "newspaper",
          "newspaper",
          "newspaper",
          "newspaper",
          "newspaper",
          "newspaper",
          "newspaper",
          "newspaper",
          "newspaper",
          "newspaper",
          "newspaper",
          "newspaper",
          "newspaper",
          "newspaper",
          "newspaper",
          "newspaper",
          "newspaper",
          "newspaper",
          "newspaper",
          "newspaper",
          "newspaper",
          "newspaper",
          "newspaper",
          "newspaper",
          "newspaper",
          "newspaper",
          "newspaper",
          "newspaper",
          "newspaper",
          "newspaper",
          "newspaper",
          "newspaper",
          "newspaper",
          "newspaper",
          "sales",
          "sales",
          "sales",
          "sales",
          "sales",
          "sales",
          "sales",
          "sales",
          "sales",
          "sales",
          "sales",
          "sales",
          "sales",
          "sales",
          "sales",
          "sales",
          "sales",
          "sales",
          "sales",
          "sales",
          "sales",
          "sales",
          "sales",
          "sales",
          "sales",
          "sales",
          "sales",
          "sales",
          "sales",
          "sales",
          "sales",
          "sales",
          "sales",
          "sales",
          "sales",
          "sales",
          "sales",
          "sales",
          "sales",
          "sales",
          "sales",
          "sales",
          "sales",
          "sales",
          "sales",
          "sales",
          "sales",
          "sales",
          "sales",
          "sales",
          "sales",
          "sales",
          "sales",
          "sales",
          "sales",
          "sales",
          "sales",
          "sales",
          "sales",
          "sales",
          "sales",
          "sales",
          "sales",
          "sales",
          "sales",
          "sales",
          "sales",
          "sales",
          "sales",
          "sales",
          "sales",
          "sales",
          "sales",
          "sales",
          "sales",
          "sales",
          "sales",
          "sales",
          "sales",
          "sales",
          "sales",
          "sales",
          "sales",
          "sales",
          "sales",
          "sales",
          "sales",
          "sales",
          "sales",
          "sales",
          "sales",
          "sales",
          "sales",
          "sales",
          "sales",
          "sales",
          "sales",
          "sales",
          "sales",
          "sales",
          "sales",
          "sales",
          "sales",
          "sales",
          "sales",
          "sales",
          "sales",
          "sales",
          "sales",
          "sales",
          "sales",
          "sales",
          "sales",
          "sales",
          "sales",
          "sales",
          "sales",
          "sales",
          "sales",
          "sales",
          "sales",
          "sales",
          "sales",
          "sales",
          "sales",
          "sales",
          "sales",
          "sales",
          "sales",
          "sales",
          "sales",
          "sales",
          "sales",
          "sales",
          "sales",
          "sales",
          "sales",
          "sales",
          "sales",
          "sales",
          "sales",
          "sales",
          "sales",
          "sales",
          "sales",
          "sales",
          "sales",
          "sales",
          "sales",
          "sales",
          "sales",
          "sales",
          "sales",
          "sales",
          "sales",
          "sales",
          "sales",
          "sales",
          "sales",
          "sales",
          "sales",
          "sales",
          "sales",
          "sales",
          "sales",
          "sales",
          "sales",
          "sales",
          "sales",
          "sales",
          "sales"
         ],
         "x0": " ",
         "xaxis": "x",
         "y": [
          84.72,
          351.48,
          135.48,
          116.64,
          318.72,
          114.84,
          348.84,
          320.28,
          89.64,
          51.72,
          273.6,
          243,
          212.4,
          352.32,
          248.28,
          30.12,
          210.12,
          107.64,
          287.88,
          272.64,
          80.28,
          239.76,
          120.48,
          259.68,
          219.12,
          315.24,
          238.68,
          8.76,
          163.44,
          252.96,
          252.84,
          64.2,
          313.56,
          287.16,
          123.24,
          157.32,
          82.8,
          37.8,
          167.16,
          284.88,
          260.16,
          238.92,
          131.76,
          32.16,
          155.28,
          256.08,
          20.28,
          33,
          144.6,
          6.48,
          139.2,
          91.68,
          287.76,
          90.36,
          82.08,
          256.2,
          231.84,
          91.56,
          132.84,
          105.96,
          131.76,
          161.16,
          34.32,
          261.24,
          301.08,
          128.88,
          195.96,
          237.12,
          221.88,
          347.64,
          162.24,
          266.88,
          355.68,
          336.24,
          225.48,
          285.84,
          165.48,
          30,
          108.48,
          15.72,
          306.48,
          270.96,
          290.04,
          210.84,
          251.52,
          93.84,
          90.12,
          167.04,
          91.68,
          150.84,
          23.28,
          169.56,
          22.56,
          268.8,
          147.72,
          275.4,
          104.64,
          9.36,
          96.24,
          264.36,
          71.52,
          0.84,
          318.24,
          10.08,
          263.76,
          44.28,
          57.96,
          30.72,
          328.44,
          51.6,
          221.88,
          88.08,
          232.44,
          264.6,
          125.52,
          115.44,
          168.36,
          288.12,
          291.84,
          45.6,
          53.64,
          336.84,
          145.2,
          237.12,
          205.56,
          225.36,
          4.92,
          112.68,
          179.76,
          14.04,
          158.04,
          207,
          102.84,
          226.08,
          196.2,
          140.64,
          281.4,
          21.48,
          248.16,
          258.48,
          341.16,
          60,
          197.4,
          23.52,
          202.08,
          266.88,
          332.28,
          298.08,
          204.24,
          332.04,
          198.72,
          187.92,
          262.2,
          67.44,
          345.12,
          304.56,
          246,
          167.4,
          229.32,
          343.2,
          22.44,
          47.4,
          90.6,
          20.64,
          200.16,
          179.64,
          45.84,
          113.04,
          212.4,
          340.32,
          278.52,
          19.2,
          33.96,
          20.88,
          1.8,
          24,
          1.68,
          4.92,
          52.56,
          59.28,
          32.04,
          45.24,
          26.76,
          40.08,
          33.24,
          10.08,
          30.84,
          27,
          11.88,
          49.8,
          18.96,
          14.04,
          3.72,
          11.52,
          50.04,
          55.44,
          34.56,
          59.28,
          33.72,
          23.04,
          59.52,
          35.4,
          2.4,
          51.24,
          18.6,
          35.52,
          51.36,
          11.16,
          29.52,
          17.4,
          33,
          52.68,
          36.72,
          17.16,
          39.6,
          6.84,
          29.52,
          52.44,
          1.92,
          34.2,
          35.88,
          9.24,
          32.04,
          4.92,
          24.36,
          53.4,
          51.6,
          22.08,
          33,
          48.72,
          30.6,
          57.36,
          5.88,
          1.8,
          40.2,
          43.8,
          16.8,
          37.92,
          4.2,
          25.2,
          50.76,
          50.04,
          5.16,
          43.56,
          12.12,
          20.64,
          41.16,
          55.68,
          13.2,
          0.36,
          0.48,
          32.28,
          9.84,
          45.6,
          18.48,
          24.72,
          56.16,
          42,
          17.16,
          0.96,
          44.28,
          19.2,
          32.16,
          26.04,
          2.88,
          41.52,
          38.76,
          14.16,
          46.68,
          0,
          58.8,
          14.4,
          47.52,
          3.48,
          32.64,
          40.2,
          46.32,
          56.4,
          46.8,
          34.68,
          31.08,
          52.68,
          20.4,
          42.48,
          39.84,
          6.84,
          17.76,
          2.28,
          8.76,
          58.8,
          48.36,
          30.96,
          16.68,
          10.08,
          27.96,
          47.64,
          25.32,
          13.92,
          52.2,
          1.56,
          44.28,
          22.08,
          21.72,
          42.96,
          21.72,
          44.16,
          17.64,
          4.08,
          45.12,
          6.24,
          28.32,
          12.72,
          13.92,
          25.08,
          24.12,
          8.52,
          4.08,
          58.68,
          36.24,
          9.36,
          2.76,
          12,
          3.12,
          6.48,
          6.84,
          51.6,
          25.56,
          54.12,
          2.52,
          34.44,
          16.68,
          14.52,
          49.32,
          12.96,
          4.92,
          50.4,
          42.72,
          4.44,
          5.88,
          11.16,
          50.4,
          10.32,
          48.96,
          51.84,
          46.32,
          36,
          0.36,
          8.88,
          10.2,
          6,
          54.84,
          42.12,
          38.4,
          37.92,
          46.44,
          2.16,
          31.68,
          51.96,
          37.8,
          42.84,
          22.2,
          59.88,
          44.16,
          41.52,
          4.32,
          47.52,
          70.44,
          19.08,
          72,
          49.68,
          19.92,
          45.24,
          11.16,
          25.68,
          65.64,
          32.76,
          10.08,
          34.68,
          1.08,
          2.64,
          12.24,
          13.2,
          32.64,
          46.44,
          38.04,
          23.16,
          37.56,
          15.72,
          107.28,
          24.84,
          17.04,
          11.28,
          27.72,
          26.76,
          44.28,
          39,
          42.72,
          40.56,
          78.84,
          19.2,
          75.84,
          88.08,
          61.68,
          11.16,
          39.6,
          70.8,
          86.76,
          13.08,
          63.48,
          7.08,
          26.4,
          61.44,
          55.08,
          59.76,
          121.08,
          25.68,
          21.48,
          6.36,
          70.8,
          35.64,
          27.84,
          30.72,
          6.6,
          67.8,
          27.84,
          2.88,
          12.84,
          41.4,
          63.24,
          30.72,
          17.76,
          95.04,
          26.76,
          55.44,
          60.48,
          18.72,
          14.88,
          89.04,
          31.08,
          60.72,
          11.04,
          3.84,
          51.72,
          10.44,
          51.6,
          2.52,
          54.12,
          78.72,
          10.2,
          11.16,
          71.64,
          24.6,
          2.04,
          15.48,
          90.72,
          45.48,
          41.28,
          46.68,
          10.8,
          10.44,
          53.16,
          14.28,
          24.72,
          44.4,
          58.44,
          17.04,
          45.24,
          11.4,
          6.84,
          60.6,
          29.16,
          54.24,
          41.52,
          36.84,
          59.16,
          30.72,
          8.88,
          6.48,
          101.76,
          25.92,
          23.28,
          69.12,
          7.68,
          22.08,
          56.88,
          20.4,
          15.36,
          15.72,
          50.16,
          24.36,
          42.24,
          28.44,
          21.12,
          9.96,
          32.88,
          35.64,
          86.16,
          36,
          23.52,
          31.92,
          21.84,
          4.44,
          28.08,
          6.96,
          7.2,
          37.92,
          4.32,
          7.2,
          16.56,
          9.72,
          7.68,
          79.44,
          10.44,
          12.6,
          25.68,
          14.28,
          11.52,
          20.88,
          11.4,
          15.36,
          30.48,
          17.64,
          12.12,
          25.8,
          19.92,
          20.52,
          24.84,
          15.48,
          10.2,
          17.88,
          12.72,
          27.84,
          17.76,
          11.64,
          13.68,
          12.84,
          27.12,
          25.44,
          24.24,
          28.44,
          6.6,
          15.84,
          28.56,
          22.08,
          9.72,
          29.04,
          18.84,
          16.8,
          21.6,
          11.16,
          11.4,
          16.08,
          22.68,
          26.76,
          21.96,
          14.88,
          10.56,
          13.2,
          20.4,
          10.44,
          8.28,
          17.04,
          6.36,
          13.2,
          14.16,
          14.76,
          13.56,
          16.32,
          26.04,
          18.24,
          14.4,
          19.2,
          15.48,
          20.04,
          13.44,
          8.76,
          23.28,
          26.64,
          13.8,
          20.28,
          14.04,
          18.6,
          30.48,
          20.64,
          14.04,
          28.56,
          17.76,
          17.64,
          24.84,
          23.04,
          8.64,
          10.44,
          6.36,
          23.76,
          16.08,
          26.16,
          16.92,
          19.08,
          17.52,
          15.12,
          14.64,
          11.28,
          19.08,
          7.92,
          18.6,
          8.4,
          13.92,
          18.24,
          23.64,
          12.72,
          7.92,
          10.56,
          29.64,
          11.64,
          1.92,
          15.24,
          6.84,
          23.52,
          12.96,
          13.92,
          11.4,
          24.96,
          11.52,
          24.84,
          13.08,
          23.04,
          24.12,
          12.48,
          13.68,
          12.36,
          15.84,
          30.48,
          13.08,
          12.12,
          19.32,
          13.92,
          19.92,
          22.8,
          18.72,
          3.84,
          18.36,
          12.12,
          8.76,
          15.48,
          17.28,
          15.96,
          17.88,
          21.6,
          14.28,
          14.28,
          9.6,
          14.64,
          20.52,
          18,
          10.08,
          17.4,
          9.12,
          14.04,
          13.8,
          32.4,
          24.24,
          14.04,
          14.16,
          15.12,
          12.6,
          14.64,
          10.44,
          31.44,
          21.12,
          27.12,
          12.36,
          20.76,
          19.08,
          8.04,
          12.96,
          11.88,
          7.08,
          23.52,
          20.76,
          9.12,
          11.64,
          15.36,
          30.6,
          16.08
         ],
         "y0": " ",
         "yaxis": "y"
        }
       ],
       "layout": {
        "boxmode": "group",
        "legend": {
         "tracegroupgap": 0
        },
        "margin": {
         "t": 60
        },
        "template": {
         "data": {
          "bar": [
           {
            "error_x": {
             "color": "#2a3f5f"
            },
            "error_y": {
             "color": "#2a3f5f"
            },
            "marker": {
             "line": {
              "color": "#E5ECF6",
              "width": 0.5
             },
             "pattern": {
              "fillmode": "overlay",
              "size": 10,
              "solidity": 0.2
             }
            },
            "type": "bar"
           }
          ],
          "barpolar": [
           {
            "marker": {
             "line": {
              "color": "#E5ECF6",
              "width": 0.5
             },
             "pattern": {
              "fillmode": "overlay",
              "size": 10,
              "solidity": 0.2
             }
            },
            "type": "barpolar"
           }
          ],
          "carpet": [
           {
            "aaxis": {
             "endlinecolor": "#2a3f5f",
             "gridcolor": "white",
             "linecolor": "white",
             "minorgridcolor": "white",
             "startlinecolor": "#2a3f5f"
            },
            "baxis": {
             "endlinecolor": "#2a3f5f",
             "gridcolor": "white",
             "linecolor": "white",
             "minorgridcolor": "white",
             "startlinecolor": "#2a3f5f"
            },
            "type": "carpet"
           }
          ],
          "choropleth": [
           {
            "colorbar": {
             "outlinewidth": 0,
             "ticks": ""
            },
            "type": "choropleth"
           }
          ],
          "contour": [
           {
            "colorbar": {
             "outlinewidth": 0,
             "ticks": ""
            },
            "colorscale": [
             [
              0,
              "#0d0887"
             ],
             [
              0.1111111111111111,
              "#46039f"
             ],
             [
              0.2222222222222222,
              "#7201a8"
             ],
             [
              0.3333333333333333,
              "#9c179e"
             ],
             [
              0.4444444444444444,
              "#bd3786"
             ],
             [
              0.5555555555555556,
              "#d8576b"
             ],
             [
              0.6666666666666666,
              "#ed7953"
             ],
             [
              0.7777777777777778,
              "#fb9f3a"
             ],
             [
              0.8888888888888888,
              "#fdca26"
             ],
             [
              1,
              "#f0f921"
             ]
            ],
            "type": "contour"
           }
          ],
          "contourcarpet": [
           {
            "colorbar": {
             "outlinewidth": 0,
             "ticks": ""
            },
            "type": "contourcarpet"
           }
          ],
          "heatmap": [
           {
            "colorbar": {
             "outlinewidth": 0,
             "ticks": ""
            },
            "colorscale": [
             [
              0,
              "#0d0887"
             ],
             [
              0.1111111111111111,
              "#46039f"
             ],
             [
              0.2222222222222222,
              "#7201a8"
             ],
             [
              0.3333333333333333,
              "#9c179e"
             ],
             [
              0.4444444444444444,
              "#bd3786"
             ],
             [
              0.5555555555555556,
              "#d8576b"
             ],
             [
              0.6666666666666666,
              "#ed7953"
             ],
             [
              0.7777777777777778,
              "#fb9f3a"
             ],
             [
              0.8888888888888888,
              "#fdca26"
             ],
             [
              1,
              "#f0f921"
             ]
            ],
            "type": "heatmap"
           }
          ],
          "heatmapgl": [
           {
            "colorbar": {
             "outlinewidth": 0,
             "ticks": ""
            },
            "colorscale": [
             [
              0,
              "#0d0887"
             ],
             [
              0.1111111111111111,
              "#46039f"
             ],
             [
              0.2222222222222222,
              "#7201a8"
             ],
             [
              0.3333333333333333,
              "#9c179e"
             ],
             [
              0.4444444444444444,
              "#bd3786"
             ],
             [
              0.5555555555555556,
              "#d8576b"
             ],
             [
              0.6666666666666666,
              "#ed7953"
             ],
             [
              0.7777777777777778,
              "#fb9f3a"
             ],
             [
              0.8888888888888888,
              "#fdca26"
             ],
             [
              1,
              "#f0f921"
             ]
            ],
            "type": "heatmapgl"
           }
          ],
          "histogram": [
           {
            "marker": {
             "pattern": {
              "fillmode": "overlay",
              "size": 10,
              "solidity": 0.2
             }
            },
            "type": "histogram"
           }
          ],
          "histogram2d": [
           {
            "colorbar": {
             "outlinewidth": 0,
             "ticks": ""
            },
            "colorscale": [
             [
              0,
              "#0d0887"
             ],
             [
              0.1111111111111111,
              "#46039f"
             ],
             [
              0.2222222222222222,
              "#7201a8"
             ],
             [
              0.3333333333333333,
              "#9c179e"
             ],
             [
              0.4444444444444444,
              "#bd3786"
             ],
             [
              0.5555555555555556,
              "#d8576b"
             ],
             [
              0.6666666666666666,
              "#ed7953"
             ],
             [
              0.7777777777777778,
              "#fb9f3a"
             ],
             [
              0.8888888888888888,
              "#fdca26"
             ],
             [
              1,
              "#f0f921"
             ]
            ],
            "type": "histogram2d"
           }
          ],
          "histogram2dcontour": [
           {
            "colorbar": {
             "outlinewidth": 0,
             "ticks": ""
            },
            "colorscale": [
             [
              0,
              "#0d0887"
             ],
             [
              0.1111111111111111,
              "#46039f"
             ],
             [
              0.2222222222222222,
              "#7201a8"
             ],
             [
              0.3333333333333333,
              "#9c179e"
             ],
             [
              0.4444444444444444,
              "#bd3786"
             ],
             [
              0.5555555555555556,
              "#d8576b"
             ],
             [
              0.6666666666666666,
              "#ed7953"
             ],
             [
              0.7777777777777778,
              "#fb9f3a"
             ],
             [
              0.8888888888888888,
              "#fdca26"
             ],
             [
              1,
              "#f0f921"
             ]
            ],
            "type": "histogram2dcontour"
           }
          ],
          "mesh3d": [
           {
            "colorbar": {
             "outlinewidth": 0,
             "ticks": ""
            },
            "type": "mesh3d"
           }
          ],
          "parcoords": [
           {
            "line": {
             "colorbar": {
              "outlinewidth": 0,
              "ticks": ""
             }
            },
            "type": "parcoords"
           }
          ],
          "pie": [
           {
            "automargin": true,
            "type": "pie"
           }
          ],
          "scatter": [
           {
            "fillpattern": {
             "fillmode": "overlay",
             "size": 10,
             "solidity": 0.2
            },
            "type": "scatter"
           }
          ],
          "scatter3d": [
           {
            "line": {
             "colorbar": {
              "outlinewidth": 0,
              "ticks": ""
             }
            },
            "marker": {
             "colorbar": {
              "outlinewidth": 0,
              "ticks": ""
             }
            },
            "type": "scatter3d"
           }
          ],
          "scattercarpet": [
           {
            "marker": {
             "colorbar": {
              "outlinewidth": 0,
              "ticks": ""
             }
            },
            "type": "scattercarpet"
           }
          ],
          "scattergeo": [
           {
            "marker": {
             "colorbar": {
              "outlinewidth": 0,
              "ticks": ""
             }
            },
            "type": "scattergeo"
           }
          ],
          "scattergl": [
           {
            "marker": {
             "colorbar": {
              "outlinewidth": 0,
              "ticks": ""
             }
            },
            "type": "scattergl"
           }
          ],
          "scattermapbox": [
           {
            "marker": {
             "colorbar": {
              "outlinewidth": 0,
              "ticks": ""
             }
            },
            "type": "scattermapbox"
           }
          ],
          "scatterpolar": [
           {
            "marker": {
             "colorbar": {
              "outlinewidth": 0,
              "ticks": ""
             }
            },
            "type": "scatterpolar"
           }
          ],
          "scatterpolargl": [
           {
            "marker": {
             "colorbar": {
              "outlinewidth": 0,
              "ticks": ""
             }
            },
            "type": "scatterpolargl"
           }
          ],
          "scatterternary": [
           {
            "marker": {
             "colorbar": {
              "outlinewidth": 0,
              "ticks": ""
             }
            },
            "type": "scatterternary"
           }
          ],
          "surface": [
           {
            "colorbar": {
             "outlinewidth": 0,
             "ticks": ""
            },
            "colorscale": [
             [
              0,
              "#0d0887"
             ],
             [
              0.1111111111111111,
              "#46039f"
             ],
             [
              0.2222222222222222,
              "#7201a8"
             ],
             [
              0.3333333333333333,
              "#9c179e"
             ],
             [
              0.4444444444444444,
              "#bd3786"
             ],
             [
              0.5555555555555556,
              "#d8576b"
             ],
             [
              0.6666666666666666,
              "#ed7953"
             ],
             [
              0.7777777777777778,
              "#fb9f3a"
             ],
             [
              0.8888888888888888,
              "#fdca26"
             ],
             [
              1,
              "#f0f921"
             ]
            ],
            "type": "surface"
           }
          ],
          "table": [
           {
            "cells": {
             "fill": {
              "color": "#EBF0F8"
             },
             "line": {
              "color": "white"
             }
            },
            "header": {
             "fill": {
              "color": "#C8D4E3"
             },
             "line": {
              "color": "white"
             }
            },
            "type": "table"
           }
          ]
         },
         "layout": {
          "annotationdefaults": {
           "arrowcolor": "#2a3f5f",
           "arrowhead": 0,
           "arrowwidth": 1
          },
          "autotypenumbers": "strict",
          "coloraxis": {
           "colorbar": {
            "outlinewidth": 0,
            "ticks": ""
           }
          },
          "colorscale": {
           "diverging": [
            [
             0,
             "#8e0152"
            ],
            [
             0.1,
             "#c51b7d"
            ],
            [
             0.2,
             "#de77ae"
            ],
            [
             0.3,
             "#f1b6da"
            ],
            [
             0.4,
             "#fde0ef"
            ],
            [
             0.5,
             "#f7f7f7"
            ],
            [
             0.6,
             "#e6f5d0"
            ],
            [
             0.7,
             "#b8e186"
            ],
            [
             0.8,
             "#7fbc41"
            ],
            [
             0.9,
             "#4d9221"
            ],
            [
             1,
             "#276419"
            ]
           ],
           "sequential": [
            [
             0,
             "#0d0887"
            ],
            [
             0.1111111111111111,
             "#46039f"
            ],
            [
             0.2222222222222222,
             "#7201a8"
            ],
            [
             0.3333333333333333,
             "#9c179e"
            ],
            [
             0.4444444444444444,
             "#bd3786"
            ],
            [
             0.5555555555555556,
             "#d8576b"
            ],
            [
             0.6666666666666666,
             "#ed7953"
            ],
            [
             0.7777777777777778,
             "#fb9f3a"
            ],
            [
             0.8888888888888888,
             "#fdca26"
            ],
            [
             1,
             "#f0f921"
            ]
           ],
           "sequentialminus": [
            [
             0,
             "#0d0887"
            ],
            [
             0.1111111111111111,
             "#46039f"
            ],
            [
             0.2222222222222222,
             "#7201a8"
            ],
            [
             0.3333333333333333,
             "#9c179e"
            ],
            [
             0.4444444444444444,
             "#bd3786"
            ],
            [
             0.5555555555555556,
             "#d8576b"
            ],
            [
             0.6666666666666666,
             "#ed7953"
            ],
            [
             0.7777777777777778,
             "#fb9f3a"
            ],
            [
             0.8888888888888888,
             "#fdca26"
            ],
            [
             1,
             "#f0f921"
            ]
           ]
          },
          "colorway": [
           "#636efa",
           "#EF553B",
           "#00cc96",
           "#ab63fa",
           "#FFA15A",
           "#19d3f3",
           "#FF6692",
           "#B6E880",
           "#FF97FF",
           "#FECB52"
          ],
          "font": {
           "color": "#2a3f5f"
          },
          "geo": {
           "bgcolor": "white",
           "lakecolor": "white",
           "landcolor": "#E5ECF6",
           "showlakes": true,
           "showland": true,
           "subunitcolor": "white"
          },
          "hoverlabel": {
           "align": "left"
          },
          "hovermode": "closest",
          "mapbox": {
           "style": "light"
          },
          "paper_bgcolor": "white",
          "plot_bgcolor": "#E5ECF6",
          "polar": {
           "angularaxis": {
            "gridcolor": "white",
            "linecolor": "white",
            "ticks": ""
           },
           "bgcolor": "#E5ECF6",
           "radialaxis": {
            "gridcolor": "white",
            "linecolor": "white",
            "ticks": ""
           }
          },
          "scene": {
           "xaxis": {
            "backgroundcolor": "#E5ECF6",
            "gridcolor": "white",
            "gridwidth": 2,
            "linecolor": "white",
            "showbackground": true,
            "ticks": "",
            "zerolinecolor": "white"
           },
           "yaxis": {
            "backgroundcolor": "#E5ECF6",
            "gridcolor": "white",
            "gridwidth": 2,
            "linecolor": "white",
            "showbackground": true,
            "ticks": "",
            "zerolinecolor": "white"
           },
           "zaxis": {
            "backgroundcolor": "#E5ECF6",
            "gridcolor": "white",
            "gridwidth": 2,
            "linecolor": "white",
            "showbackground": true,
            "ticks": "",
            "zerolinecolor": "white"
           }
          },
          "shapedefaults": {
           "line": {
            "color": "#2a3f5f"
           }
          },
          "ternary": {
           "aaxis": {
            "gridcolor": "white",
            "linecolor": "white",
            "ticks": ""
           },
           "baxis": {
            "gridcolor": "white",
            "linecolor": "white",
            "ticks": ""
           },
           "bgcolor": "#E5ECF6",
           "caxis": {
            "gridcolor": "white",
            "linecolor": "white",
            "ticks": ""
           }
          },
          "title": {
           "x": 0.05
          },
          "xaxis": {
           "automargin": true,
           "gridcolor": "white",
           "linecolor": "white",
           "ticks": "",
           "title": {
            "standoff": 15
           },
           "zerolinecolor": "white",
           "zerolinewidth": 2
          },
          "yaxis": {
           "automargin": true,
           "gridcolor": "white",
           "linecolor": "white",
           "ticks": "",
           "title": {
            "standoff": 15
           },
           "zerolinecolor": "white",
           "zerolinewidth": 2
          }
         }
        },
        "xaxis": {
         "anchor": "y",
         "domain": [
          0,
          1
         ],
         "title": {
          "text": "variable"
         }
        },
        "yaxis": {
         "anchor": "x",
         "domain": [
          0,
          1
         ],
         "title": {
          "text": "value"
         }
        }
       }
      },
      "text/html": [
       "<div>                            <div id=\"8a1aecca-c61e-47a9-b7b8-5d876ec2be2d\" class=\"plotly-graph-div\" style=\"height:525px; width:100%;\"></div>            <script type=\"text/javascript\">                require([\"plotly\"], function(Plotly) {                    window.PLOTLYENV=window.PLOTLYENV || {};                                    if (document.getElementById(\"8a1aecca-c61e-47a9-b7b8-5d876ec2be2d\")) {                    Plotly.newPlot(                        \"8a1aecca-c61e-47a9-b7b8-5d876ec2be2d\",                        [{\"alignmentgroup\":\"True\",\"boxpoints\":\"all\",\"hovertemplate\":\"variable=%{x}\\u003cbr\\u003evalue=%{y}\\u003cextra\\u003e\\u003c\\u002fextra\\u003e\",\"legendgroup\":\"\",\"marker\":{\"color\":\"#636efa\"},\"name\":\"\",\"notched\":false,\"offsetgroup\":\"\",\"orientation\":\"v\",\"showlegend\":false,\"x\":[\"youtube\",\"youtube\",\"youtube\",\"youtube\",\"youtube\",\"youtube\",\"youtube\",\"youtube\",\"youtube\",\"youtube\",\"youtube\",\"youtube\",\"youtube\",\"youtube\",\"youtube\",\"youtube\",\"youtube\",\"youtube\",\"youtube\",\"youtube\",\"youtube\",\"youtube\",\"youtube\",\"youtube\",\"youtube\",\"youtube\",\"youtube\",\"youtube\",\"youtube\",\"youtube\",\"youtube\",\"youtube\",\"youtube\",\"youtube\",\"youtube\",\"youtube\",\"youtube\",\"youtube\",\"youtube\",\"youtube\",\"youtube\",\"youtube\",\"youtube\",\"youtube\",\"youtube\",\"youtube\",\"youtube\",\"youtube\",\"youtube\",\"youtube\",\"youtube\",\"youtube\",\"youtube\",\"youtube\",\"youtube\",\"youtube\",\"youtube\",\"youtube\",\"youtube\",\"youtube\",\"youtube\",\"youtube\",\"youtube\",\"youtube\",\"youtube\",\"youtube\",\"youtube\",\"youtube\",\"youtube\",\"youtube\",\"youtube\",\"youtube\",\"youtube\",\"youtube\",\"youtube\",\"youtube\",\"youtube\",\"youtube\",\"youtube\",\"youtube\",\"youtube\",\"youtube\",\"youtube\",\"youtube\",\"youtube\",\"youtube\",\"youtube\",\"youtube\",\"youtube\",\"youtube\",\"youtube\",\"youtube\",\"youtube\",\"youtube\",\"youtube\",\"youtube\",\"youtube\",\"youtube\",\"youtube\",\"youtube\",\"youtube\",\"youtube\",\"youtube\",\"youtube\",\"youtube\",\"youtube\",\"youtube\",\"youtube\",\"youtube\",\"youtube\",\"youtube\",\"youtube\",\"youtube\",\"youtube\",\"youtube\",\"youtube\",\"youtube\",\"youtube\",\"youtube\",\"youtube\",\"youtube\",\"youtube\",\"youtube\",\"youtube\",\"youtube\",\"youtube\",\"youtube\",\"youtube\",\"youtube\",\"youtube\",\"youtube\",\"youtube\",\"youtube\",\"youtube\",\"youtube\",\"youtube\",\"youtube\",\"youtube\",\"youtube\",\"youtube\",\"youtube\",\"youtube\",\"youtube\",\"youtube\",\"youtube\",\"youtube\",\"youtube\",\"youtube\",\"youtube\",\"youtube\",\"youtube\",\"youtube\",\"youtube\",\"youtube\",\"youtube\",\"youtube\",\"youtube\",\"youtube\",\"youtube\",\"youtube\",\"youtube\",\"youtube\",\"youtube\",\"youtube\",\"youtube\",\"youtube\",\"youtube\",\"youtube\",\"youtube\",\"youtube\",\"youtube\",\"facebook\",\"facebook\",\"facebook\",\"facebook\",\"facebook\",\"facebook\",\"facebook\",\"facebook\",\"facebook\",\"facebook\",\"facebook\",\"facebook\",\"facebook\",\"facebook\",\"facebook\",\"facebook\",\"facebook\",\"facebook\",\"facebook\",\"facebook\",\"facebook\",\"facebook\",\"facebook\",\"facebook\",\"facebook\",\"facebook\",\"facebook\",\"facebook\",\"facebook\",\"facebook\",\"facebook\",\"facebook\",\"facebook\",\"facebook\",\"facebook\",\"facebook\",\"facebook\",\"facebook\",\"facebook\",\"facebook\",\"facebook\",\"facebook\",\"facebook\",\"facebook\",\"facebook\",\"facebook\",\"facebook\",\"facebook\",\"facebook\",\"facebook\",\"facebook\",\"facebook\",\"facebook\",\"facebook\",\"facebook\",\"facebook\",\"facebook\",\"facebook\",\"facebook\",\"facebook\",\"facebook\",\"facebook\",\"facebook\",\"facebook\",\"facebook\",\"facebook\",\"facebook\",\"facebook\",\"facebook\",\"facebook\",\"facebook\",\"facebook\",\"facebook\",\"facebook\",\"facebook\",\"facebook\",\"facebook\",\"facebook\",\"facebook\",\"facebook\",\"facebook\",\"facebook\",\"facebook\",\"facebook\",\"facebook\",\"facebook\",\"facebook\",\"facebook\",\"facebook\",\"facebook\",\"facebook\",\"facebook\",\"facebook\",\"facebook\",\"facebook\",\"facebook\",\"facebook\",\"facebook\",\"facebook\",\"facebook\",\"facebook\",\"facebook\",\"facebook\",\"facebook\",\"facebook\",\"facebook\",\"facebook\",\"facebook\",\"facebook\",\"facebook\",\"facebook\",\"facebook\",\"facebook\",\"facebook\",\"facebook\",\"facebook\",\"facebook\",\"facebook\",\"facebook\",\"facebook\",\"facebook\",\"facebook\",\"facebook\",\"facebook\",\"facebook\",\"facebook\",\"facebook\",\"facebook\",\"facebook\",\"facebook\",\"facebook\",\"facebook\",\"facebook\",\"facebook\",\"facebook\",\"facebook\",\"facebook\",\"facebook\",\"facebook\",\"facebook\",\"facebook\",\"facebook\",\"facebook\",\"facebook\",\"facebook\",\"facebook\",\"facebook\",\"facebook\",\"facebook\",\"facebook\",\"facebook\",\"facebook\",\"facebook\",\"facebook\",\"facebook\",\"facebook\",\"facebook\",\"facebook\",\"facebook\",\"facebook\",\"facebook\",\"facebook\",\"facebook\",\"facebook\",\"facebook\",\"facebook\",\"facebook\",\"facebook\",\"facebook\",\"facebook\",\"facebook\",\"newspaper\",\"newspaper\",\"newspaper\",\"newspaper\",\"newspaper\",\"newspaper\",\"newspaper\",\"newspaper\",\"newspaper\",\"newspaper\",\"newspaper\",\"newspaper\",\"newspaper\",\"newspaper\",\"newspaper\",\"newspaper\",\"newspaper\",\"newspaper\",\"newspaper\",\"newspaper\",\"newspaper\",\"newspaper\",\"newspaper\",\"newspaper\",\"newspaper\",\"newspaper\",\"newspaper\",\"newspaper\",\"newspaper\",\"newspaper\",\"newspaper\",\"newspaper\",\"newspaper\",\"newspaper\",\"newspaper\",\"newspaper\",\"newspaper\",\"newspaper\",\"newspaper\",\"newspaper\",\"newspaper\",\"newspaper\",\"newspaper\",\"newspaper\",\"newspaper\",\"newspaper\",\"newspaper\",\"newspaper\",\"newspaper\",\"newspaper\",\"newspaper\",\"newspaper\",\"newspaper\",\"newspaper\",\"newspaper\",\"newspaper\",\"newspaper\",\"newspaper\",\"newspaper\",\"newspaper\",\"newspaper\",\"newspaper\",\"newspaper\",\"newspaper\",\"newspaper\",\"newspaper\",\"newspaper\",\"newspaper\",\"newspaper\",\"newspaper\",\"newspaper\",\"newspaper\",\"newspaper\",\"newspaper\",\"newspaper\",\"newspaper\",\"newspaper\",\"newspaper\",\"newspaper\",\"newspaper\",\"newspaper\",\"newspaper\",\"newspaper\",\"newspaper\",\"newspaper\",\"newspaper\",\"newspaper\",\"newspaper\",\"newspaper\",\"newspaper\",\"newspaper\",\"newspaper\",\"newspaper\",\"newspaper\",\"newspaper\",\"newspaper\",\"newspaper\",\"newspaper\",\"newspaper\",\"newspaper\",\"newspaper\",\"newspaper\",\"newspaper\",\"newspaper\",\"newspaper\",\"newspaper\",\"newspaper\",\"newspaper\",\"newspaper\",\"newspaper\",\"newspaper\",\"newspaper\",\"newspaper\",\"newspaper\",\"newspaper\",\"newspaper\",\"newspaper\",\"newspaper\",\"newspaper\",\"newspaper\",\"newspaper\",\"newspaper\",\"newspaper\",\"newspaper\",\"newspaper\",\"newspaper\",\"newspaper\",\"newspaper\",\"newspaper\",\"newspaper\",\"newspaper\",\"newspaper\",\"newspaper\",\"newspaper\",\"newspaper\",\"newspaper\",\"newspaper\",\"newspaper\",\"newspaper\",\"newspaper\",\"newspaper\",\"newspaper\",\"newspaper\",\"newspaper\",\"newspaper\",\"newspaper\",\"newspaper\",\"newspaper\",\"newspaper\",\"newspaper\",\"newspaper\",\"newspaper\",\"newspaper\",\"newspaper\",\"newspaper\",\"newspaper\",\"newspaper\",\"newspaper\",\"newspaper\",\"newspaper\",\"newspaper\",\"newspaper\",\"newspaper\",\"newspaper\",\"newspaper\",\"newspaper\",\"newspaper\",\"newspaper\",\"newspaper\",\"newspaper\",\"newspaper\",\"sales\",\"sales\",\"sales\",\"sales\",\"sales\",\"sales\",\"sales\",\"sales\",\"sales\",\"sales\",\"sales\",\"sales\",\"sales\",\"sales\",\"sales\",\"sales\",\"sales\",\"sales\",\"sales\",\"sales\",\"sales\",\"sales\",\"sales\",\"sales\",\"sales\",\"sales\",\"sales\",\"sales\",\"sales\",\"sales\",\"sales\",\"sales\",\"sales\",\"sales\",\"sales\",\"sales\",\"sales\",\"sales\",\"sales\",\"sales\",\"sales\",\"sales\",\"sales\",\"sales\",\"sales\",\"sales\",\"sales\",\"sales\",\"sales\",\"sales\",\"sales\",\"sales\",\"sales\",\"sales\",\"sales\",\"sales\",\"sales\",\"sales\",\"sales\",\"sales\",\"sales\",\"sales\",\"sales\",\"sales\",\"sales\",\"sales\",\"sales\",\"sales\",\"sales\",\"sales\",\"sales\",\"sales\",\"sales\",\"sales\",\"sales\",\"sales\",\"sales\",\"sales\",\"sales\",\"sales\",\"sales\",\"sales\",\"sales\",\"sales\",\"sales\",\"sales\",\"sales\",\"sales\",\"sales\",\"sales\",\"sales\",\"sales\",\"sales\",\"sales\",\"sales\",\"sales\",\"sales\",\"sales\",\"sales\",\"sales\",\"sales\",\"sales\",\"sales\",\"sales\",\"sales\",\"sales\",\"sales\",\"sales\",\"sales\",\"sales\",\"sales\",\"sales\",\"sales\",\"sales\",\"sales\",\"sales\",\"sales\",\"sales\",\"sales\",\"sales\",\"sales\",\"sales\",\"sales\",\"sales\",\"sales\",\"sales\",\"sales\",\"sales\",\"sales\",\"sales\",\"sales\",\"sales\",\"sales\",\"sales\",\"sales\",\"sales\",\"sales\",\"sales\",\"sales\",\"sales\",\"sales\",\"sales\",\"sales\",\"sales\",\"sales\",\"sales\",\"sales\",\"sales\",\"sales\",\"sales\",\"sales\",\"sales\",\"sales\",\"sales\",\"sales\",\"sales\",\"sales\",\"sales\",\"sales\",\"sales\",\"sales\",\"sales\",\"sales\",\"sales\",\"sales\",\"sales\",\"sales\",\"sales\",\"sales\",\"sales\",\"sales\"],\"x0\":\" \",\"xaxis\":\"x\",\"y\":[84.72,351.48,135.48,116.64,318.72,114.84,348.84,320.28,89.64,51.72,273.6,243.0,212.4,352.32,248.28,30.12,210.12,107.64,287.88,272.64,80.28,239.76,120.48,259.68,219.12,315.24,238.68,8.76,163.44,252.96,252.84,64.2,313.56,287.16,123.24,157.32,82.8,37.8,167.16,284.88,260.16,238.92,131.76,32.16,155.28,256.08,20.28,33.0,144.6,6.48,139.2,91.68,287.76,90.36,82.08,256.2,231.84,91.56,132.84,105.96,131.76,161.16,34.32,261.24,301.08,128.88,195.96,237.12,221.88,347.64,162.24,266.88,355.68,336.24,225.48,285.84,165.48,30.0,108.48,15.72,306.48,270.96,290.04,210.84,251.52,93.84,90.12,167.04,91.68,150.84,23.28,169.56,22.56,268.8,147.72,275.4,104.64,9.36,96.24,264.36,71.52,0.84,318.24,10.08,263.76,44.28,57.96,30.72,328.44,51.6,221.88,88.08,232.44,264.6,125.52,115.44,168.36,288.12,291.84,45.6,53.64,336.84,145.2,237.12,205.56,225.36,4.92,112.68,179.76,14.04,158.04,207.0,102.84,226.08,196.2,140.64,281.4,21.48,248.16,258.48,341.16,60.0,197.4,23.52,202.08,266.88,332.28,298.08,204.24,332.04,198.72,187.92,262.2,67.44,345.12,304.56,246.0,167.4,229.32,343.2,22.44,47.4,90.6,20.64,200.16,179.64,45.84,113.04,212.4,340.32,278.52,19.2,33.96,20.88,1.8,24.0,1.68,4.92,52.56,59.28,32.04,45.24,26.76,40.08,33.24,10.08,30.84,27.0,11.88,49.8,18.96,14.04,3.72,11.52,50.04,55.44,34.56,59.28,33.72,23.04,59.52,35.4,2.4,51.24,18.6,35.52,51.36,11.16,29.52,17.4,33.0,52.68,36.72,17.16,39.6,6.84,29.52,52.44,1.92,34.2,35.88,9.24,32.04,4.92,24.36,53.4,51.6,22.08,33.0,48.72,30.6,57.36,5.88,1.8,40.2,43.8,16.8,37.92,4.2,25.2,50.76,50.04,5.16,43.56,12.12,20.64,41.16,55.68,13.2,0.36,0.48,32.28,9.84,45.6,18.48,24.72,56.16,42.0,17.16,0.96,44.28,19.2,32.16,26.04,2.88,41.52,38.76,14.16,46.68,0.0,58.8,14.4,47.52,3.48,32.64,40.2,46.32,56.4,46.8,34.68,31.08,52.68,20.4,42.48,39.84,6.84,17.76,2.28,8.76,58.8,48.36,30.96,16.68,10.08,27.96,47.64,25.32,13.92,52.2,1.56,44.28,22.08,21.72,42.96,21.72,44.16,17.64,4.08,45.12,6.24,28.32,12.72,13.92,25.08,24.12,8.52,4.08,58.68,36.24,9.36,2.76,12.0,3.12,6.48,6.84,51.6,25.56,54.12,2.52,34.44,16.68,14.52,49.32,12.96,4.92,50.4,42.72,4.44,5.88,11.16,50.4,10.32,48.96,51.84,46.32,36.0,0.36,8.88,10.2,6.0,54.84,42.12,38.4,37.92,46.44,2.16,31.68,51.96,37.8,42.84,22.2,59.88,44.16,41.52,4.32,47.52,70.44,19.08,72.0,49.68,19.92,45.24,11.16,25.68,65.64,32.76,10.08,34.68,1.08,2.64,12.24,13.2,32.64,46.44,38.04,23.16,37.56,15.72,107.28,24.84,17.04,11.28,27.72,26.76,44.28,39.0,42.72,40.56,78.84,19.2,75.84,88.08,61.68,11.16,39.6,70.8,86.76,13.08,63.48,7.08,26.4,61.44,55.08,59.76,121.08,25.68,21.48,6.36,70.8,35.64,27.84,30.72,6.6,67.8,27.84,2.88,12.84,41.4,63.24,30.72,17.76,95.04,26.76,55.44,60.48,18.72,14.88,89.04,31.08,60.72,11.04,3.84,51.72,10.44,51.6,2.52,54.12,78.72,10.2,11.16,71.64,24.6,2.04,15.48,90.72,45.48,41.28,46.68,10.8,10.44,53.16,14.28,24.72,44.4,58.44,17.04,45.24,11.4,6.84,60.6,29.16,54.24,41.52,36.84,59.16,30.72,8.88,6.48,101.76,25.92,23.28,69.12,7.68,22.08,56.88,20.4,15.36,15.72,50.16,24.36,42.24,28.44,21.12,9.96,32.88,35.64,86.16,36.0,23.52,31.92,21.84,4.44,28.08,6.96,7.2,37.92,4.32,7.2,16.56,9.72,7.68,79.44,10.44,12.6,25.68,14.28,11.52,20.88,11.4,15.36,30.48,17.64,12.12,25.8,19.92,20.52,24.84,15.48,10.2,17.88,12.72,27.84,17.76,11.64,13.68,12.84,27.12,25.44,24.24,28.44,6.6,15.84,28.56,22.08,9.72,29.04,18.84,16.8,21.6,11.16,11.4,16.08,22.68,26.76,21.96,14.88,10.56,13.2,20.4,10.44,8.28,17.04,6.36,13.2,14.16,14.76,13.56,16.32,26.04,18.24,14.4,19.2,15.48,20.04,13.44,8.76,23.28,26.64,13.8,20.28,14.04,18.6,30.48,20.64,14.04,28.56,17.76,17.64,24.84,23.04,8.64,10.44,6.36,23.76,16.08,26.16,16.92,19.08,17.52,15.12,14.64,11.28,19.08,7.92,18.6,8.4,13.92,18.24,23.64,12.72,7.92,10.56,29.64,11.64,1.92,15.24,6.84,23.52,12.96,13.92,11.4,24.96,11.52,24.84,13.08,23.04,24.12,12.48,13.68,12.36,15.84,30.48,13.08,12.12,19.32,13.92,19.92,22.8,18.72,3.84,18.36,12.12,8.76,15.48,17.28,15.96,17.88,21.6,14.28,14.28,9.6,14.64,20.52,18.0,10.08,17.4,9.12,14.04,13.8,32.4,24.24,14.04,14.16,15.12,12.6,14.64,10.44,31.44,21.12,27.12,12.36,20.76,19.08,8.04,12.96,11.88,7.08,23.52,20.76,9.12,11.64,15.36,30.6,16.08],\"y0\":\" \",\"yaxis\":\"y\",\"type\":\"box\"}],                        {\"template\":{\"data\":{\"histogram2dcontour\":[{\"type\":\"histogram2dcontour\",\"colorbar\":{\"outlinewidth\":0,\"ticks\":\"\"},\"colorscale\":[[0.0,\"#0d0887\"],[0.1111111111111111,\"#46039f\"],[0.2222222222222222,\"#7201a8\"],[0.3333333333333333,\"#9c179e\"],[0.4444444444444444,\"#bd3786\"],[0.5555555555555556,\"#d8576b\"],[0.6666666666666666,\"#ed7953\"],[0.7777777777777778,\"#fb9f3a\"],[0.8888888888888888,\"#fdca26\"],[1.0,\"#f0f921\"]]}],\"choropleth\":[{\"type\":\"choropleth\",\"colorbar\":{\"outlinewidth\":0,\"ticks\":\"\"}}],\"histogram2d\":[{\"type\":\"histogram2d\",\"colorbar\":{\"outlinewidth\":0,\"ticks\":\"\"},\"colorscale\":[[0.0,\"#0d0887\"],[0.1111111111111111,\"#46039f\"],[0.2222222222222222,\"#7201a8\"],[0.3333333333333333,\"#9c179e\"],[0.4444444444444444,\"#bd3786\"],[0.5555555555555556,\"#d8576b\"],[0.6666666666666666,\"#ed7953\"],[0.7777777777777778,\"#fb9f3a\"],[0.8888888888888888,\"#fdca26\"],[1.0,\"#f0f921\"]]}],\"heatmap\":[{\"type\":\"heatmap\",\"colorbar\":{\"outlinewidth\":0,\"ticks\":\"\"},\"colorscale\":[[0.0,\"#0d0887\"],[0.1111111111111111,\"#46039f\"],[0.2222222222222222,\"#7201a8\"],[0.3333333333333333,\"#9c179e\"],[0.4444444444444444,\"#bd3786\"],[0.5555555555555556,\"#d8576b\"],[0.6666666666666666,\"#ed7953\"],[0.7777777777777778,\"#fb9f3a\"],[0.8888888888888888,\"#fdca26\"],[1.0,\"#f0f921\"]]}],\"heatmapgl\":[{\"type\":\"heatmapgl\",\"colorbar\":{\"outlinewidth\":0,\"ticks\":\"\"},\"colorscale\":[[0.0,\"#0d0887\"],[0.1111111111111111,\"#46039f\"],[0.2222222222222222,\"#7201a8\"],[0.3333333333333333,\"#9c179e\"],[0.4444444444444444,\"#bd3786\"],[0.5555555555555556,\"#d8576b\"],[0.6666666666666666,\"#ed7953\"],[0.7777777777777778,\"#fb9f3a\"],[0.8888888888888888,\"#fdca26\"],[1.0,\"#f0f921\"]]}],\"contourcarpet\":[{\"type\":\"contourcarpet\",\"colorbar\":{\"outlinewidth\":0,\"ticks\":\"\"}}],\"contour\":[{\"type\":\"contour\",\"colorbar\":{\"outlinewidth\":0,\"ticks\":\"\"},\"colorscale\":[[0.0,\"#0d0887\"],[0.1111111111111111,\"#46039f\"],[0.2222222222222222,\"#7201a8\"],[0.3333333333333333,\"#9c179e\"],[0.4444444444444444,\"#bd3786\"],[0.5555555555555556,\"#d8576b\"],[0.6666666666666666,\"#ed7953\"],[0.7777777777777778,\"#fb9f3a\"],[0.8888888888888888,\"#fdca26\"],[1.0,\"#f0f921\"]]}],\"surface\":[{\"type\":\"surface\",\"colorbar\":{\"outlinewidth\":0,\"ticks\":\"\"},\"colorscale\":[[0.0,\"#0d0887\"],[0.1111111111111111,\"#46039f\"],[0.2222222222222222,\"#7201a8\"],[0.3333333333333333,\"#9c179e\"],[0.4444444444444444,\"#bd3786\"],[0.5555555555555556,\"#d8576b\"],[0.6666666666666666,\"#ed7953\"],[0.7777777777777778,\"#fb9f3a\"],[0.8888888888888888,\"#fdca26\"],[1.0,\"#f0f921\"]]}],\"mesh3d\":[{\"type\":\"mesh3d\",\"colorbar\":{\"outlinewidth\":0,\"ticks\":\"\"}}],\"scatter\":[{\"fillpattern\":{\"fillmode\":\"overlay\",\"size\":10,\"solidity\":0.2},\"type\":\"scatter\"}],\"parcoords\":[{\"type\":\"parcoords\",\"line\":{\"colorbar\":{\"outlinewidth\":0,\"ticks\":\"\"}}}],\"scatterpolargl\":[{\"type\":\"scatterpolargl\",\"marker\":{\"colorbar\":{\"outlinewidth\":0,\"ticks\":\"\"}}}],\"bar\":[{\"error_x\":{\"color\":\"#2a3f5f\"},\"error_y\":{\"color\":\"#2a3f5f\"},\"marker\":{\"line\":{\"color\":\"#E5ECF6\",\"width\":0.5},\"pattern\":{\"fillmode\":\"overlay\",\"size\":10,\"solidity\":0.2}},\"type\":\"bar\"}],\"scattergeo\":[{\"type\":\"scattergeo\",\"marker\":{\"colorbar\":{\"outlinewidth\":0,\"ticks\":\"\"}}}],\"scatterpolar\":[{\"type\":\"scatterpolar\",\"marker\":{\"colorbar\":{\"outlinewidth\":0,\"ticks\":\"\"}}}],\"histogram\":[{\"marker\":{\"pattern\":{\"fillmode\":\"overlay\",\"size\":10,\"solidity\":0.2}},\"type\":\"histogram\"}],\"scattergl\":[{\"type\":\"scattergl\",\"marker\":{\"colorbar\":{\"outlinewidth\":0,\"ticks\":\"\"}}}],\"scatter3d\":[{\"type\":\"scatter3d\",\"line\":{\"colorbar\":{\"outlinewidth\":0,\"ticks\":\"\"}},\"marker\":{\"colorbar\":{\"outlinewidth\":0,\"ticks\":\"\"}}}],\"scattermapbox\":[{\"type\":\"scattermapbox\",\"marker\":{\"colorbar\":{\"outlinewidth\":0,\"ticks\":\"\"}}}],\"scatterternary\":[{\"type\":\"scatterternary\",\"marker\":{\"colorbar\":{\"outlinewidth\":0,\"ticks\":\"\"}}}],\"scattercarpet\":[{\"type\":\"scattercarpet\",\"marker\":{\"colorbar\":{\"outlinewidth\":0,\"ticks\":\"\"}}}],\"carpet\":[{\"aaxis\":{\"endlinecolor\":\"#2a3f5f\",\"gridcolor\":\"white\",\"linecolor\":\"white\",\"minorgridcolor\":\"white\",\"startlinecolor\":\"#2a3f5f\"},\"baxis\":{\"endlinecolor\":\"#2a3f5f\",\"gridcolor\":\"white\",\"linecolor\":\"white\",\"minorgridcolor\":\"white\",\"startlinecolor\":\"#2a3f5f\"},\"type\":\"carpet\"}],\"table\":[{\"cells\":{\"fill\":{\"color\":\"#EBF0F8\"},\"line\":{\"color\":\"white\"}},\"header\":{\"fill\":{\"color\":\"#C8D4E3\"},\"line\":{\"color\":\"white\"}},\"type\":\"table\"}],\"barpolar\":[{\"marker\":{\"line\":{\"color\":\"#E5ECF6\",\"width\":0.5},\"pattern\":{\"fillmode\":\"overlay\",\"size\":10,\"solidity\":0.2}},\"type\":\"barpolar\"}],\"pie\":[{\"automargin\":true,\"type\":\"pie\"}]},\"layout\":{\"autotypenumbers\":\"strict\",\"colorway\":[\"#636efa\",\"#EF553B\",\"#00cc96\",\"#ab63fa\",\"#FFA15A\",\"#19d3f3\",\"#FF6692\",\"#B6E880\",\"#FF97FF\",\"#FECB52\"],\"font\":{\"color\":\"#2a3f5f\"},\"hovermode\":\"closest\",\"hoverlabel\":{\"align\":\"left\"},\"paper_bgcolor\":\"white\",\"plot_bgcolor\":\"#E5ECF6\",\"polar\":{\"bgcolor\":\"#E5ECF6\",\"angularaxis\":{\"gridcolor\":\"white\",\"linecolor\":\"white\",\"ticks\":\"\"},\"radialaxis\":{\"gridcolor\":\"white\",\"linecolor\":\"white\",\"ticks\":\"\"}},\"ternary\":{\"bgcolor\":\"#E5ECF6\",\"aaxis\":{\"gridcolor\":\"white\",\"linecolor\":\"white\",\"ticks\":\"\"},\"baxis\":{\"gridcolor\":\"white\",\"linecolor\":\"white\",\"ticks\":\"\"},\"caxis\":{\"gridcolor\":\"white\",\"linecolor\":\"white\",\"ticks\":\"\"}},\"coloraxis\":{\"colorbar\":{\"outlinewidth\":0,\"ticks\":\"\"}},\"colorscale\":{\"sequential\":[[0.0,\"#0d0887\"],[0.1111111111111111,\"#46039f\"],[0.2222222222222222,\"#7201a8\"],[0.3333333333333333,\"#9c179e\"],[0.4444444444444444,\"#bd3786\"],[0.5555555555555556,\"#d8576b\"],[0.6666666666666666,\"#ed7953\"],[0.7777777777777778,\"#fb9f3a\"],[0.8888888888888888,\"#fdca26\"],[1.0,\"#f0f921\"]],\"sequentialminus\":[[0.0,\"#0d0887\"],[0.1111111111111111,\"#46039f\"],[0.2222222222222222,\"#7201a8\"],[0.3333333333333333,\"#9c179e\"],[0.4444444444444444,\"#bd3786\"],[0.5555555555555556,\"#d8576b\"],[0.6666666666666666,\"#ed7953\"],[0.7777777777777778,\"#fb9f3a\"],[0.8888888888888888,\"#fdca26\"],[1.0,\"#f0f921\"]],\"diverging\":[[0,\"#8e0152\"],[0.1,\"#c51b7d\"],[0.2,\"#de77ae\"],[0.3,\"#f1b6da\"],[0.4,\"#fde0ef\"],[0.5,\"#f7f7f7\"],[0.6,\"#e6f5d0\"],[0.7,\"#b8e186\"],[0.8,\"#7fbc41\"],[0.9,\"#4d9221\"],[1,\"#276419\"]]},\"xaxis\":{\"gridcolor\":\"white\",\"linecolor\":\"white\",\"ticks\":\"\",\"title\":{\"standoff\":15},\"zerolinecolor\":\"white\",\"automargin\":true,\"zerolinewidth\":2},\"yaxis\":{\"gridcolor\":\"white\",\"linecolor\":\"white\",\"ticks\":\"\",\"title\":{\"standoff\":15},\"zerolinecolor\":\"white\",\"automargin\":true,\"zerolinewidth\":2},\"scene\":{\"xaxis\":{\"backgroundcolor\":\"#E5ECF6\",\"gridcolor\":\"white\",\"linecolor\":\"white\",\"showbackground\":true,\"ticks\":\"\",\"zerolinecolor\":\"white\",\"gridwidth\":2},\"yaxis\":{\"backgroundcolor\":\"#E5ECF6\",\"gridcolor\":\"white\",\"linecolor\":\"white\",\"showbackground\":true,\"ticks\":\"\",\"zerolinecolor\":\"white\",\"gridwidth\":2},\"zaxis\":{\"backgroundcolor\":\"#E5ECF6\",\"gridcolor\":\"white\",\"linecolor\":\"white\",\"showbackground\":true,\"ticks\":\"\",\"zerolinecolor\":\"white\",\"gridwidth\":2}},\"shapedefaults\":{\"line\":{\"color\":\"#2a3f5f\"}},\"annotationdefaults\":{\"arrowcolor\":\"#2a3f5f\",\"arrowhead\":0,\"arrowwidth\":1},\"geo\":{\"bgcolor\":\"white\",\"landcolor\":\"#E5ECF6\",\"subunitcolor\":\"white\",\"showland\":true,\"showlakes\":true,\"lakecolor\":\"white\"},\"title\":{\"x\":0.05},\"mapbox\":{\"style\":\"light\"}}},\"xaxis\":{\"anchor\":\"y\",\"domain\":[0.0,1.0],\"title\":{\"text\":\"variable\"}},\"yaxis\":{\"anchor\":\"x\",\"domain\":[0.0,1.0],\"title\":{\"text\":\"value\"}},\"legend\":{\"tracegroupgap\":0},\"margin\":{\"t\":60},\"boxmode\":\"group\"},                        {\"responsive\": true}                    ).then(function(){\n",
       "                            \n",
       "var gd = document.getElementById('8a1aecca-c61e-47a9-b7b8-5d876ec2be2d');\n",
       "var x = new MutationObserver(function (mutations, observer) {{\n",
       "        var display = window.getComputedStyle(gd).display;\n",
       "        if (!display || display === 'none') {{\n",
       "            console.log([gd, 'removed!']);\n",
       "            Plotly.purge(gd);\n",
       "            observer.disconnect();\n",
       "        }}\n",
       "}});\n",
       "\n",
       "// Listen for the removal of the full notebook cells\n",
       "var notebookContainer = gd.closest('#notebook-container');\n",
       "if (notebookContainer) {{\n",
       "    x.observe(notebookContainer, {childList: true});\n",
       "}}\n",
       "\n",
       "// Listen for the clearing of the current output cell\n",
       "var outputEl = gd.closest('.output');\n",
       "if (outputEl) {{\n",
       "    x.observe(outputEl, {childList: true});\n",
       "}}\n",
       "\n",
       "                        })                };                });            </script>        </div>"
      ]
     },
     "metadata": {},
     "output_type": "display_data"
    }
   ],
   "source": [
    "# Boxplot\n",
    "px.box()\n",
    "fig = px.box(mkt, points=\"all\")\n",
    "fig.show()"
   ]
  },
  {
   "cell_type": "code",
   "execution_count": 502,
   "id": "dabc47ef",
   "metadata": {},
   "outputs": [
    {
     "data": {
      "image/png": "[encoded data removed]",
      "text/plain": [
       "<Figure size 640x480 with 1 Axes>"
      ]
     },
     "metadata": {},
     "output_type": "display_data"
    }
   ],
   "source": [
    "# Boxplot\n",
    "\n",
    "ax =sns.boxplot(data=mkt)\n",
    "ax.axhline(y=101.8, color='r', linestyle='--', label='y=101,8')\n",
    "plt.title('Boxplot')\n",
    "plt.legend()\n",
    "plt.show()"
   ]
  },
  {
   "cell_type": "code",
   "execution_count": 503,
   "id": "247a42b6",
   "metadata": {},
   "outputs": [
    {
     "data": {
      "text/html": [
       "<div>\n",
       "<style scoped>\n",
       "    .dataframe tbody tr th:only-of-type {\n",
       "        vertical-align: middle;\n",
       "    }\n",
       "\n",
       "    .dataframe tbody tr th {\n",
       "        vertical-align: top;\n",
       "    }\n",
       "\n",
       "    .dataframe thead th {\n",
       "        text-align: right;\n",
       "    }\n",
       "</style>\n",
       "<table border=\"1\" class=\"dataframe\">\n",
       "  <thead>\n",
       "    <tr style=\"text-align: right;\">\n",
       "      <th></th>\n",
       "      <th>youtube</th>\n",
       "      <th>facebook</th>\n",
       "      <th>newspaper</th>\n",
       "      <th>sales</th>\n",
       "    </tr>\n",
       "  </thead>\n",
       "  <tbody>\n",
       "    <tr>\n",
       "      <th>46</th>\n",
       "      <td>20.28</td>\n",
       "      <td>52.44</td>\n",
       "      <td>107.28</td>\n",
       "      <td>10.44</td>\n",
       "    </tr>\n",
       "    <tr>\n",
       "      <th>72</th>\n",
       "      <td>355.68</td>\n",
       "      <td>43.56</td>\n",
       "      <td>121.08</td>\n",
       "      <td>28.56</td>\n",
       "    </tr>\n",
       "  </tbody>\n",
       "</table>\n",
       "</div>"
      ],
      "text/plain": [
       "    youtube  facebook  newspaper  sales\n",
       "46    20.28     52.44     107.28  10.44\n",
       "72   355.68     43.56     121.08  28.56"
      ]
     },
     "execution_count": 503,
     "metadata": {},
     "output_type": "execute_result"
    }
   ],
   "source": [
    "mkt[mkt['newspaper'] > 102]"
   ]
  },
  {
   "cell_type": "markdown",
   "id": "92f214f6",
   "metadata": {},
   "source": [
    "**Outliers:**  \n",
    "Com o uso do boxplot visualizamos que somente os investimentos em newspaper apresentam outliers. Fato que é confirmado com os histogramas anteriores."
   ]
  },
  {
   "cell_type": "markdown",
   "id": "82748da4",
   "metadata": {},
   "source": [
    "## Investimento total por canal"
   ]
  },
  {
   "cell_type": "code",
   "execution_count": 504,
   "id": "a0dd8040",
   "metadata": {},
   "outputs": [
    {
     "data": {
      "text/html": [
       "<div>\n",
       "<style scoped>\n",
       "    .dataframe tbody tr th:only-of-type {\n",
       "        vertical-align: middle;\n",
       "    }\n",
       "\n",
       "    .dataframe tbody tr th {\n",
       "        vertical-align: top;\n",
       "    }\n",
       "\n",
       "    .dataframe thead th {\n",
       "        text-align: right;\n",
       "    }\n",
       "</style>\n",
       "<table border=\"1\" class=\"dataframe\">\n",
       "  <thead>\n",
       "    <tr style=\"text-align: right;\">\n",
       "      <th></th>\n",
       "      <th>Canal</th>\n",
       "      <th>R$</th>\n",
       "    </tr>\n",
       "  </thead>\n",
       "  <tbody>\n",
       "    <tr>\n",
       "      <th>0</th>\n",
       "      <td>youtube</td>\n",
       "      <td>30441.60</td>\n",
       "    </tr>\n",
       "    <tr>\n",
       "      <th>2</th>\n",
       "      <td>newspaper</td>\n",
       "      <td>6026.04</td>\n",
       "    </tr>\n",
       "    <tr>\n",
       "      <th>1</th>\n",
       "      <td>facebook</td>\n",
       "      <td>4731.84</td>\n",
       "    </tr>\n",
       "  </tbody>\n",
       "</table>\n",
       "</div>"
      ],
      "text/plain": [
       "       Canal        R$\n",
       "0    youtube  30441.60\n",
       "2  newspaper   6026.04\n",
       "1   facebook   4731.84"
      ]
     },
     "execution_count": 504,
     "metadata": {},
     "output_type": "execute_result"
    }
   ],
   "source": [
    "canal_soma = mkt.sum()\n",
    "canal_soma =  pd.DataFrame(canal_soma).reset_index()\n",
    "canal_soma = canal_soma.drop(3)\n",
    "canal_soma.rename(columns = {'index': 'Canal',0:'R$'},inplace = True)\n",
    "canal_soma = canal_soma.sort_values('R$', ascending=False)\n",
    "canal_soma"
   ]
  },
  {
   "cell_type": "code",
   "execution_count": 505,
   "id": "7fa286b4",
   "metadata": {},
   "outputs": [
    {
     "name": "stdout",
     "output_type": "stream",
     "text": [
      "Soma total do investimento em mkt: 41199.48\n",
      "Soma total do faturamento em vendas: R$ 2893.8\n",
      "ROI: 0.0702\n"
     ]
    }
   ],
   "source": [
    "\n",
    "total_canal_soma = canal_soma['R$'].sum()\n",
    "print('Soma total do investimento em mkt:',round(total_canal_soma,2))\n",
    "sales_soma = mkt['sales'].sum()\n",
    "print('Soma total do faturamento em vendas: R$', round(sales_soma,2))\n",
    "print('ROI:',round(sales_soma/total_canal_soma, 4) )"
   ]
  },
  {
   "cell_type": "markdown",
   "id": "661d94bd",
   "metadata": {},
   "source": [
    "## Correlações"
   ]
  },
  {
   "cell_type": "code",
   "execution_count": 506,
   "id": "cf4a1055",
   "metadata": {},
   "outputs": [
    {
     "data": {
      "text/html": [
       "<div>\n",
       "<style scoped>\n",
       "    .dataframe tbody tr th:only-of-type {\n",
       "        vertical-align: middle;\n",
       "    }\n",
       "\n",
       "    .dataframe tbody tr th {\n",
       "        vertical-align: top;\n",
       "    }\n",
       "\n",
       "    .dataframe thead th {\n",
       "        text-align: right;\n",
       "    }\n",
       "</style>\n",
       "<table border=\"1\" class=\"dataframe\">\n",
       "  <thead>\n",
       "    <tr style=\"text-align: right;\">\n",
       "      <th></th>\n",
       "      <th>youtube</th>\n",
       "      <th>facebook</th>\n",
       "      <th>newspaper</th>\n",
       "      <th>sales</th>\n",
       "    </tr>\n",
       "  </thead>\n",
       "  <tbody>\n",
       "    <tr>\n",
       "      <th>youtube</th>\n",
       "      <td>1.000000</td>\n",
       "      <td>0.086538</td>\n",
       "      <td>0.110759</td>\n",
       "      <td>0.782030</td>\n",
       "    </tr>\n",
       "    <tr>\n",
       "      <th>facebook</th>\n",
       "      <td>0.086538</td>\n",
       "      <td>1.000000</td>\n",
       "      <td>0.293425</td>\n",
       "      <td>0.602918</td>\n",
       "    </tr>\n",
       "    <tr>\n",
       "      <th>newspaper</th>\n",
       "      <td>0.110759</td>\n",
       "      <td>0.293425</td>\n",
       "      <td>1.000000</td>\n",
       "      <td>0.254987</td>\n",
       "    </tr>\n",
       "    <tr>\n",
       "      <th>sales</th>\n",
       "      <td>0.782030</td>\n",
       "      <td>0.602918</td>\n",
       "      <td>0.254987</td>\n",
       "      <td>1.000000</td>\n",
       "    </tr>\n",
       "  </tbody>\n",
       "</table>\n",
       "</div>"
      ],
      "text/plain": [
       "            youtube  facebook  newspaper     sales\n",
       "youtube    1.000000  0.086538   0.110759  0.782030\n",
       "facebook   0.086538  1.000000   0.293425  0.602918\n",
       "newspaper  0.110759  0.293425   1.000000  0.254987\n",
       "sales      0.782030  0.602918   0.254987  1.000000"
      ]
     },
     "execution_count": 506,
     "metadata": {},
     "output_type": "execute_result"
    }
   ],
   "source": [
    "mkt.corr()"
   ]
  },
  {
   "cell_type": "code",
   "execution_count": 507,
   "id": "b669982e",
   "metadata": {},
   "outputs": [
    {
     "data": {
      "image/png": "[encoded data removed]",
      "text/plain": [
       "<Figure size 500x300 with 2 Axes>"
      ]
     },
     "metadata": {},
     "output_type": "display_data"
    }
   ],
   "source": [
    "plt.figure(figsize=(5,3))\n",
    "sns.heatmap(data= mkt.corr(), annot = True, cmap='Blues')\n",
    "plt.show()"
   ]
  },
  {
   "cell_type": "code",
   "execution_count": 508,
   "id": "489f7707",
   "metadata": {},
   "outputs": [
    {
     "data": {
      "image/png": "[encoded data removed]",
      "text/plain": [
       "<Figure size 1000x1000 with 20 Axes>"
      ]
     },
     "metadata": {},
     "output_type": "display_data"
    }
   ],
   "source": [
    "sns.pairplot(mkt)\n",
    "plt.show()"
   ]
  },
  {
   "cell_type": "markdown",
   "id": "13d17915",
   "metadata": {},
   "source": [
    "### Análise correlações:  \n",
    "Mapeando a correlação entre as variáveis começamos a entender quantitativamente a influência de cada variável independente nos resultados de vendas. E percebemos que o investimento em newspaper é de baixo retorno, e o facebook e youtube tem valores de correlação interesantes."
   ]
  },
  {
   "cell_type": "code",
   "execution_count": 509,
   "id": "cf5065c5",
   "metadata": {},
   "outputs": [
    {
     "data": {
      "image/png": "[encoded data removed]",
      "text/plain": [
       "<Figure size 1200x400 with 1 Axes>"
      ]
     },
     "metadata": {},
     "output_type": "display_data"
    }
   ],
   "source": [
    "# Visualização gráfica ao longo do tempo\n",
    "\n",
    "mkt2 = mkt.copy()\n",
    "mkt2['index_col'] = mkt2.reset_index()['index']\n",
    "\n",
    "plt.figure(figsize=(12,4))\n",
    "sns.lineplot(data=mkt2, x= 'index_col', y='youtube', color='r')\n",
    "sns.lineplot(data=mkt2, x= 'index_col', y='facebook', color='b')\n",
    "sns.lineplot(data=mkt2, x= 'index_col', y='newspaper', color='g')\n",
    "sns.lineplot(data=mkt2, x= 'index_col', y='sales', color='y')\n",
    "plt.legend(['youtube','','facebook','','newspaper','','sales'], loc='upper right')\n",
    "plt.title('Valores das Variáveis')\n",
    "plt.ylabel('Variáveis')\n",
    "plt.xlabel('Índices')\n",
    "plt.show()"
   ]
  },
  {
   "cell_type": "markdown",
   "id": "0d9e136f",
   "metadata": {},
   "source": [
    "**Atenção:**  \n",
    "As conclusões a partir do gráfico acima devem ser tomadas com cuidado, pois o conjunto de dados não contém um marcador temporal. Sendo assim o eixo x foi construido utilizando os índices."
   ]
  },
  {
   "cell_type": "markdown",
   "id": "b6e008d3",
   "metadata": {},
   "source": [
    "# 03. Modelagem"
   ]
  },
  {
   "cell_type": "code",
   "execution_count": 510,
   "id": "71f3f9c7",
   "metadata": {},
   "outputs": [],
   "source": [
    "# Definindo as variáveis explicativas e a variável resposta.\n",
    "\n",
    "y= mkt.sales\n",
    "x= sm.add_constant(mkt[['youtube', 'facebook', 'newspaper']])"
   ]
  },
  {
   "cell_type": "code",
   "execution_count": 511,
   "id": "bb6ec81c",
   "metadata": {},
   "outputs": [],
   "source": [
    "# Gerando o modelo estatístico.\n",
    "\n",
    "model = sm.OLS(y,x)\n",
    "result = model.fit()"
   ]
  },
  {
   "cell_type": "code",
   "execution_count": 512,
   "id": "6af70b5a",
   "metadata": {},
   "outputs": [
    {
     "name": "stdout",
     "output_type": "stream",
     "text": [
      "                            OLS Regression Results                            \n",
      "==============================================================================\n",
      "Dep. Variable:                  sales   R-squared:                       0.900\n",
      "Model:                            OLS   Adj. R-squared:                  0.899\n",
      "Method:                 Least Squares   F-statistic:                     503.7\n",
      "Date:                Thu, 20 Jul 2023   Prob (F-statistic):           2.09e-83\n",
      "Time:                        13:58:20   Log-Likelihood:                -359.99\n",
      "No. Observations:                 171   AIC:                             728.0\n",
      "Df Residuals:                     167   BIC:                             740.5\n",
      "Df Model:                           3                                         \n",
      "Covariance Type:            nonrobust                                         \n",
      "==============================================================================\n",
      "                 coef    std err          t      P>|t|      [0.025      0.975]\n",
      "------------------------------------------------------------------------------\n",
      "const          3.5059      0.400      8.772      0.000       2.717       4.295\n",
      "youtube        0.0452      0.002     29.830      0.000       0.042       0.048\n",
      "facebook       0.1884      0.009     20.895      0.000       0.171       0.206\n",
      "newspaper      0.0043      0.007      0.658      0.511      -0.009       0.017\n",
      "==============================================================================\n",
      "Omnibus:                       57.934   Durbin-Watson:                   2.065\n",
      "Prob(Omnibus):                  0.000   Jarque-Bera (JB):              162.792\n",
      "Skew:                          -1.388   Prob(JB):                     4.47e-36\n",
      "Kurtosis:                       6.891   Cond. No.                         544.\n",
      "==============================================================================\n",
      "\n",
      "Notes:\n",
      "[1] Standard Errors assume that the covariance matrix of the errors is correctly specified.\n"
     ]
    }
   ],
   "source": [
    "#Visualizando o resultado.\n",
    "\n",
    "print(result.summary())"
   ]
  },
  {
   "cell_type": "code",
   "execution_count": 513,
   "id": "5084ce0a",
   "metadata": {},
   "outputs": [
    {
     "name": "stdout",
     "output_type": "stream",
     "text": [
      "                            OLS Regression Results                            \n",
      "==============================================================================\n",
      "Dep. Variable:                  sales   R-squared:                       0.900\n",
      "Model:                            OLS   Adj. R-squared:                  0.899\n",
      "Method:                 Least Squares   F-statistic:                     757.8\n",
      "Date:                Thu, 20 Jul 2023   Prob (F-statistic):           8.33e-85\n",
      "Time:                        13:58:20   Log-Likelihood:                -360.21\n",
      "No. Observations:                 171   AIC:                             726.4\n",
      "Df Residuals:                     168   BIC:                             735.8\n",
      "Df Model:                           2                                         \n",
      "Covariance Type:            nonrobust                                         \n",
      "==============================================================================\n",
      "                 coef    std err          t      P>|t|      [0.025      0.975]\n",
      "------------------------------------------------------------------------------\n",
      "const          3.5937      0.376      9.555      0.000       2.851       4.336\n",
      "youtube        0.0453      0.002     30.060      0.000       0.042       0.048\n",
      "facebook       0.1901      0.009     22.045      0.000       0.173       0.207\n",
      "==============================================================================\n",
      "Omnibus:                       59.525   Durbin-Watson:                   2.077\n",
      "Prob(Omnibus):                  0.000   Jarque-Bera (JB):              174.220\n",
      "Skew:                          -1.411   Prob(JB):                     1.47e-38\n",
      "Kurtosis:                       7.061   Cond. No.                         507.\n",
      "==============================================================================\n",
      "\n",
      "Notes:\n",
      "[1] Standard Errors assume that the covariance matrix of the errors is correctly specified.\n"
     ]
    }
   ],
   "source": [
    "#O r² está alto, porém o p-value da variável \"newspaper\" está muito alto. Sendo assim, ela não pode ser utilizada. \n",
    "\n",
    "y= mkt.sales\n",
    "x= sm.add_constant(mkt[['youtube', 'facebook']])\n",
    "model = sm.OLS(y,x)\n",
    "result = model.fit()\n",
    "print(result.summary())"
   ]
  },
  {
   "cell_type": "markdown",
   "id": "d475b9f2",
   "metadata": {},
   "source": [
    "**Obs:**\n",
    "\n",
    "O dataset trabalhado não necessita da ultilização de algum método de codificação dos atributos, pois todas são quantitativas.  \n",
    "E também não requer normalização, pois as 4 colunas estão na mesma escala."
   ]
  },
  {
   "cell_type": "markdown",
   "id": "085ae216",
   "metadata": {},
   "source": [
    "## Modelo usando a Scikit-learn"
   ]
  },
  {
   "cell_type": "code",
   "execution_count": 514,
   "id": "365025db",
   "metadata": {},
   "outputs": [
    {
     "data": {
      "text/html": [
       "<style>#sk-container-id-37 {color: black;background-color: white;}#sk-container-id-37 pre{padding: 0;}#sk-container-id-37 div.sk-toggleable {background-color: white;}#sk-container-id-37 label.sk-toggleable__label {cursor: pointer;display: block;width: 100%;margin-bottom: 0;padding: 0.3em;box-sizing: border-box;text-align: center;}#sk-container-id-37 label.sk-toggleable__label-arrow:before {content: \"▸\";float: left;margin-right: 0.25em;color: #696969;}#sk-container-id-37 label.sk-toggleable__label-arrow:hover:before {color: black;}#sk-container-id-37 div.sk-estimator:hover label.sk-toggleable__label-arrow:before {color: black;}#sk-container-id-37 div.sk-toggleable__content {max-height: 0;max-width: 0;overflow: hidden;text-align: left;background-color: #f0f8ff;}#sk-container-id-37 div.sk-toggleable__content pre {margin: 0.2em;color: black;border-radius: 0.25em;background-color: #f0f8ff;}#sk-container-id-37 input.sk-toggleable__control:checked~div.sk-toggleable__content {max-height: 200px;max-width: 100%;overflow: auto;}#sk-container-id-37 input.sk-toggleable__control:checked~label.sk-toggleable__label-arrow:before {content: \"▾\";}#sk-container-id-37 div.sk-estimator input.sk-toggleable__control:checked~label.sk-toggleable__label {background-color: #d4ebff;}#sk-container-id-37 div.sk-label input.sk-toggleable__control:checked~label.sk-toggleable__label {background-color: #d4ebff;}#sk-container-id-37 input.sk-hidden--visually {border: 0;clip: rect(1px 1px 1px 1px);clip: rect(1px, 1px, 1px, 1px);height: 1px;margin: -1px;overflow: hidden;padding: 0;position: absolute;width: 1px;}#sk-container-id-37 div.sk-estimator {font-family: monospace;background-color: #f0f8ff;border: 1px dotted black;border-radius: 0.25em;box-sizing: border-box;margin-bottom: 0.5em;}#sk-container-id-37 div.sk-estimator:hover {background-color: #d4ebff;}#sk-container-id-37 div.sk-parallel-item::after {content: \"\";width: 100%;border-bottom: 1px solid gray;flex-grow: 1;}#sk-container-id-37 div.sk-label:hover label.sk-toggleable__label {background-color: #d4ebff;}#sk-container-id-37 div.sk-serial::before {content: \"\";position: absolute;border-left: 1px solid gray;box-sizing: border-box;top: 0;bottom: 0;left: 50%;z-index: 0;}#sk-container-id-37 div.sk-serial {display: flex;flex-direction: column;align-items: center;background-color: white;padding-right: 0.2em;padding-left: 0.2em;position: relative;}#sk-container-id-37 div.sk-item {position: relative;z-index: 1;}#sk-container-id-37 div.sk-parallel {display: flex;align-items: stretch;justify-content: center;background-color: white;position: relative;}#sk-container-id-37 div.sk-item::before, #sk-container-id-37 div.sk-parallel-item::before {content: \"\";position: absolute;border-left: 1px solid gray;box-sizing: border-box;top: 0;bottom: 0;left: 50%;z-index: -1;}#sk-container-id-37 div.sk-parallel-item {display: flex;flex-direction: column;z-index: 1;position: relative;background-color: white;}#sk-container-id-37 div.sk-parallel-item:first-child::after {align-self: flex-end;width: 50%;}#sk-container-id-37 div.sk-parallel-item:last-child::after {align-self: flex-start;width: 50%;}#sk-container-id-37 div.sk-parallel-item:only-child::after {width: 0;}#sk-container-id-37 div.sk-dashed-wrapped {border: 1px dashed gray;margin: 0 0.4em 0.5em 0.4em;box-sizing: border-box;padding-bottom: 0.4em;background-color: white;}#sk-container-id-37 div.sk-label label {font-family: monospace;font-weight: bold;display: inline-block;line-height: 1.2em;}#sk-container-id-37 div.sk-label-container {text-align: center;}#sk-container-id-37 div.sk-container {/* jupyter's `normalize.less` sets `[hidden] { display: none; }` but bootstrap.min.css set `[hidden] { display: none !important; }` so we also need the `!important` here to be able to override the default hidden behavior on the sphinx rendered scikit-learn.org. See: https://github.com/scikit-learn/scikit-learn/issues/21755 */display: inline-block !important;position: relative;}#sk-container-id-37 div.sk-text-repr-fallback {display: none;}</style><div id=\"sk-container-id-37\" class=\"sk-top-container\"><div class=\"sk-text-repr-fallback\"><pre>LinearRegression()</pre><b>In a Jupyter environment, please rerun this cell to show the HTML representation or trust the notebook. <br />On GitHub, the HTML representation is unable to render, please try loading this page with nbviewer.org.</b></div><div class=\"sk-container\" hidden><div class=\"sk-item\"><div class=\"sk-estimator sk-toggleable\"><input class=\"sk-toggleable__control sk-hidden--visually\" id=\"sk-estimator-id-37\" type=\"checkbox\" checked><label for=\"sk-estimator-id-37\" class=\"sk-toggleable__label sk-toggleable__label-arrow\">LinearRegression</label><div class=\"sk-toggleable__content\"><pre>LinearRegression()</pre></div></div></div></div></div>"
      ],
      "text/plain": [
       "LinearRegression()"
      ]
     },
     "execution_count": 514,
     "metadata": {},
     "output_type": "execute_result"
    }
   ],
   "source": [
    "#Separando os dado para treino e para teste.\n",
    "x_train, x_test, y_train, y_test = train_test_split(x, y, test_size=0.2, random_state=0)\n",
    "\n",
    "# Treinando o modelo com regressão linear usando os dados de treino.\n",
    "lr = LinearRegression()\n",
    "lr.fit(x_train, y_train)"
   ]
  },
  {
   "cell_type": "code",
   "execution_count": 515,
   "id": "ec657cac",
   "metadata": {},
   "outputs": [
    {
     "name": "stdout",
     "output_type": "stream",
     "text": [
      "r² (treino): 0.8906451392330468\n"
     ]
    }
   ],
   "source": [
    "#r² do modelo de treino\n",
    "\n",
    "r_sq_train = lr.score(x_train,y_train)\n",
    "print('r² (treino):',r_sq_train)"
   ]
  },
  {
   "cell_type": "code",
   "execution_count": 516,
   "id": "1862d911",
   "metadata": {},
   "outputs": [
    {
     "name": "stdout",
     "output_type": "stream",
     "text": [
      "MAE (treino):  1.4863527361083928\n",
      "MSE (treino):  4.111631820736484\n",
      "RMSE (treino):  2.027715912236348\n"
     ]
    }
   ],
   "source": [
    "#Predizendo os valores de y baseado nos valores de treino de x. \n",
    "y_pred_train = lr.predict(x_train)\n",
    "\n",
    "#Calculando as metricas de qualidade dos resultados de y preditos acima.\n",
    "print(\"MAE (treino): \", metrics.mean_absolute_error(y_train,y_pred_train))\n",
    "print(\"MSE (treino): \", metrics.mean_squared_error(y_train,y_pred_train))\n",
    "print(\"RMSE (treino): \", np.sqrt(metrics.mean_squared_error(y_train,y_pred_train)))"
   ]
  },
  {
   "cell_type": "markdown",
   "id": "6694e259",
   "metadata": {},
   "source": [
    "Dados de teste"
   ]
  },
  {
   "cell_type": "code",
   "execution_count": 517,
   "id": "8ed4d759",
   "metadata": {},
   "outputs": [
    {
     "data": {
      "text/html": [
       "<style>#sk-container-id-38 {color: black;background-color: white;}#sk-container-id-38 pre{padding: 0;}#sk-container-id-38 div.sk-toggleable {background-color: white;}#sk-container-id-38 label.sk-toggleable__label {cursor: pointer;display: block;width: 100%;margin-bottom: 0;padding: 0.3em;box-sizing: border-box;text-align: center;}#sk-container-id-38 label.sk-toggleable__label-arrow:before {content: \"▸\";float: left;margin-right: 0.25em;color: #696969;}#sk-container-id-38 label.sk-toggleable__label-arrow:hover:before {color: black;}#sk-container-id-38 div.sk-estimator:hover label.sk-toggleable__label-arrow:before {color: black;}#sk-container-id-38 div.sk-toggleable__content {max-height: 0;max-width: 0;overflow: hidden;text-align: left;background-color: #f0f8ff;}#sk-container-id-38 div.sk-toggleable__content pre {margin: 0.2em;color: black;border-radius: 0.25em;background-color: #f0f8ff;}#sk-container-id-38 input.sk-toggleable__control:checked~div.sk-toggleable__content {max-height: 200px;max-width: 100%;overflow: auto;}#sk-container-id-38 input.sk-toggleable__control:checked~label.sk-toggleable__label-arrow:before {content: \"▾\";}#sk-container-id-38 div.sk-estimator input.sk-toggleable__control:checked~label.sk-toggleable__label {background-color: #d4ebff;}#sk-container-id-38 div.sk-label input.sk-toggleable__control:checked~label.sk-toggleable__label {background-color: #d4ebff;}#sk-container-id-38 input.sk-hidden--visually {border: 0;clip: rect(1px 1px 1px 1px);clip: rect(1px, 1px, 1px, 1px);height: 1px;margin: -1px;overflow: hidden;padding: 0;position: absolute;width: 1px;}#sk-container-id-38 div.sk-estimator {font-family: monospace;background-color: #f0f8ff;border: 1px dotted black;border-radius: 0.25em;box-sizing: border-box;margin-bottom: 0.5em;}#sk-container-id-38 div.sk-estimator:hover {background-color: #d4ebff;}#sk-container-id-38 div.sk-parallel-item::after {content: \"\";width: 100%;border-bottom: 1px solid gray;flex-grow: 1;}#sk-container-id-38 div.sk-label:hover label.sk-toggleable__label {background-color: #d4ebff;}#sk-container-id-38 div.sk-serial::before {content: \"\";position: absolute;border-left: 1px solid gray;box-sizing: border-box;top: 0;bottom: 0;left: 50%;z-index: 0;}#sk-container-id-38 div.sk-serial {display: flex;flex-direction: column;align-items: center;background-color: white;padding-right: 0.2em;padding-left: 0.2em;position: relative;}#sk-container-id-38 div.sk-item {position: relative;z-index: 1;}#sk-container-id-38 div.sk-parallel {display: flex;align-items: stretch;justify-content: center;background-color: white;position: relative;}#sk-container-id-38 div.sk-item::before, #sk-container-id-38 div.sk-parallel-item::before {content: \"\";position: absolute;border-left: 1px solid gray;box-sizing: border-box;top: 0;bottom: 0;left: 50%;z-index: -1;}#sk-container-id-38 div.sk-parallel-item {display: flex;flex-direction: column;z-index: 1;position: relative;background-color: white;}#sk-container-id-38 div.sk-parallel-item:first-child::after {align-self: flex-end;width: 50%;}#sk-container-id-38 div.sk-parallel-item:last-child::after {align-self: flex-start;width: 50%;}#sk-container-id-38 div.sk-parallel-item:only-child::after {width: 0;}#sk-container-id-38 div.sk-dashed-wrapped {border: 1px dashed gray;margin: 0 0.4em 0.5em 0.4em;box-sizing: border-box;padding-bottom: 0.4em;background-color: white;}#sk-container-id-38 div.sk-label label {font-family: monospace;font-weight: bold;display: inline-block;line-height: 1.2em;}#sk-container-id-38 div.sk-label-container {text-align: center;}#sk-container-id-38 div.sk-container {/* jupyter's `normalize.less` sets `[hidden] { display: none; }` but bootstrap.min.css set `[hidden] { display: none !important; }` so we also need the `!important` here to be able to override the default hidden behavior on the sphinx rendered scikit-learn.org. See: https://github.com/scikit-learn/scikit-learn/issues/21755 */display: inline-block !important;position: relative;}#sk-container-id-38 div.sk-text-repr-fallback {display: none;}</style><div id=\"sk-container-id-38\" class=\"sk-top-container\"><div class=\"sk-text-repr-fallback\"><pre>LinearRegression()</pre><b>In a Jupyter environment, please rerun this cell to show the HTML representation or trust the notebook. <br />On GitHub, the HTML representation is unable to render, please try loading this page with nbviewer.org.</b></div><div class=\"sk-container\" hidden><div class=\"sk-item\"><div class=\"sk-estimator sk-toggleable\"><input class=\"sk-toggleable__control sk-hidden--visually\" id=\"sk-estimator-id-38\" type=\"checkbox\" checked><label for=\"sk-estimator-id-38\" class=\"sk-toggleable__label sk-toggleable__label-arrow\">LinearRegression</label><div class=\"sk-toggleable__content\"><pre>LinearRegression()</pre></div></div></div></div></div>"
      ],
      "text/plain": [
       "LinearRegression()"
      ]
     },
     "execution_count": 517,
     "metadata": {},
     "output_type": "execute_result"
    }
   ],
   "source": [
    "# Treinando o modelo com regressão linear usando os dados de teste.\n",
    "lr.fit(x_test, y_test)"
   ]
  },
  {
   "cell_type": "code",
   "execution_count": 518,
   "id": "b1a67f96",
   "metadata": {
    "scrolled": true
   },
   "outputs": [
    {
     "name": "stdout",
     "output_type": "stream",
     "text": [
      "r² (teste): 0.9388840021342563\n"
     ]
    }
   ],
   "source": [
    "# r² do modelo de teste\n",
    "\n",
    "r_sq_test = lr.score(x_test,y_test)\n",
    "print('r² (teste):',r_sq_test)"
   ]
  },
  {
   "cell_type": "code",
   "execution_count": 519,
   "id": "731fd4e4",
   "metadata": {},
   "outputs": [
    {
     "name": "stdout",
     "output_type": "stream",
     "text": [
      "MAE (teste):  1.2794766667395967\n",
      "MSE (teste):  2.7608231354523505\n",
      "RMSE (teste):  1.6615724887745194\n"
     ]
    }
   ],
   "source": [
    "# Predizendo os valores de y baseado nos valores de treino de x. \n",
    "y_pred_test = lr.predict(x_test)\n",
    "\n",
    "# Calculando as metricas de qualidade dos resultados de y preditos acima.\n",
    "print(\"MAE (teste): \", metrics.mean_absolute_error(y_test,y_pred_test))\n",
    "print(\"MSE (teste): \", metrics.mean_squared_error(y_test,y_pred_test))\n",
    "print(\"RMSE (teste): \", np.sqrt(metrics.mean_squared_error(y_test,y_pred_test)))"
   ]
  },
  {
   "cell_type": "markdown",
   "id": "477545d9",
   "metadata": {},
   "source": [
    "**Análise:**\n",
    "\n",
    "O modelo se comportou bem com os dados de treino(r² = 0.86885), e apresentou um r² melhor quando avaliado com a base para teste.  \n",
    "Quando aferido as métricas de erro médio, foi encontrado bons resultado. E estes resultados melhoraram diante da base de teste."
   ]
  },
  {
   "cell_type": "code",
   "execution_count": 520,
   "id": "48546830",
   "metadata": {},
   "outputs": [
    {
     "data": {
      "image/png": "[encoded data removed]",
      "text/plain": [
       "<Figure size 640x480 with 1 Axes>"
      ]
     },
     "metadata": {},
     "output_type": "display_data"
    }
   ],
   "source": [
    "#Gráfico que apresenta os valores reais de vendas e os valores preditos pelo modelo.\n",
    "\n",
    "df_results = pd.DataFrame({'y_test': y_test, 'y_pred_test': y_pred_test})\n",
    "df_results.reset_index(drop=True, inplace=True)\n",
    "\n",
    "plt.figure()\n",
    "sns.lineplot(data=df_results, errorbar=None)\n",
    "plt.legend(['Vendas Real', 'Vendas Preditas'], loc='upper right')\n",
    "plt.title('Real x Predito')\n",
    "plt.ylabel('Vendas')\n",
    "plt.show()"
   ]
  },
  {
   "cell_type": "markdown",
   "id": "ccaf4bb7",
   "metadata": {},
   "source": [
    "# Regressão linear com árvores"
   ]
  },
  {
   "cell_type": "markdown",
   "id": "916de4a9",
   "metadata": {},
   "source": [
    "## Treino com Random Forest Regressor"
   ]
  },
  {
   "cell_type": "code",
   "execution_count": 521,
   "id": "0a4c7a7a",
   "metadata": {},
   "outputs": [
    {
     "data": {
      "text/html": [
       "<style>#sk-container-id-39 {color: black;background-color: white;}#sk-container-id-39 pre{padding: 0;}#sk-container-id-39 div.sk-toggleable {background-color: white;}#sk-container-id-39 label.sk-toggleable__label {cursor: pointer;display: block;width: 100%;margin-bottom: 0;padding: 0.3em;box-sizing: border-box;text-align: center;}#sk-container-id-39 label.sk-toggleable__label-arrow:before {content: \"▸\";float: left;margin-right: 0.25em;color: #696969;}#sk-container-id-39 label.sk-toggleable__label-arrow:hover:before {color: black;}#sk-container-id-39 div.sk-estimator:hover label.sk-toggleable__label-arrow:before {color: black;}#sk-container-id-39 div.sk-toggleable__content {max-height: 0;max-width: 0;overflow: hidden;text-align: left;background-color: #f0f8ff;}#sk-container-id-39 div.sk-toggleable__content pre {margin: 0.2em;color: black;border-radius: 0.25em;background-color: #f0f8ff;}#sk-container-id-39 input.sk-toggleable__control:checked~div.sk-toggleable__content {max-height: 200px;max-width: 100%;overflow: auto;}#sk-container-id-39 input.sk-toggleable__control:checked~label.sk-toggleable__label-arrow:before {content: \"▾\";}#sk-container-id-39 div.sk-estimator input.sk-toggleable__control:checked~label.sk-toggleable__label {background-color: #d4ebff;}#sk-container-id-39 div.sk-label input.sk-toggleable__control:checked~label.sk-toggleable__label {background-color: #d4ebff;}#sk-container-id-39 input.sk-hidden--visually {border: 0;clip: rect(1px 1px 1px 1px);clip: rect(1px, 1px, 1px, 1px);height: 1px;margin: -1px;overflow: hidden;padding: 0;position: absolute;width: 1px;}#sk-container-id-39 div.sk-estimator {font-family: monospace;background-color: #f0f8ff;border: 1px dotted black;border-radius: 0.25em;box-sizing: border-box;margin-bottom: 0.5em;}#sk-container-id-39 div.sk-estimator:hover {background-color: #d4ebff;}#sk-container-id-39 div.sk-parallel-item::after {content: \"\";width: 100%;border-bottom: 1px solid gray;flex-grow: 1;}#sk-container-id-39 div.sk-label:hover label.sk-toggleable__label {background-color: #d4ebff;}#sk-container-id-39 div.sk-serial::before {content: \"\";position: absolute;border-left: 1px solid gray;box-sizing: border-box;top: 0;bottom: 0;left: 50%;z-index: 0;}#sk-container-id-39 div.sk-serial {display: flex;flex-direction: column;align-items: center;background-color: white;padding-right: 0.2em;padding-left: 0.2em;position: relative;}#sk-container-id-39 div.sk-item {position: relative;z-index: 1;}#sk-container-id-39 div.sk-parallel {display: flex;align-items: stretch;justify-content: center;background-color: white;position: relative;}#sk-container-id-39 div.sk-item::before, #sk-container-id-39 div.sk-parallel-item::before {content: \"\";position: absolute;border-left: 1px solid gray;box-sizing: border-box;top: 0;bottom: 0;left: 50%;z-index: -1;}#sk-container-id-39 div.sk-parallel-item {display: flex;flex-direction: column;z-index: 1;position: relative;background-color: white;}#sk-container-id-39 div.sk-parallel-item:first-child::after {align-self: flex-end;width: 50%;}#sk-container-id-39 div.sk-parallel-item:last-child::after {align-self: flex-start;width: 50%;}#sk-container-id-39 div.sk-parallel-item:only-child::after {width: 0;}#sk-container-id-39 div.sk-dashed-wrapped {border: 1px dashed gray;margin: 0 0.4em 0.5em 0.4em;box-sizing: border-box;padding-bottom: 0.4em;background-color: white;}#sk-container-id-39 div.sk-label label {font-family: monospace;font-weight: bold;display: inline-block;line-height: 1.2em;}#sk-container-id-39 div.sk-label-container {text-align: center;}#sk-container-id-39 div.sk-container {/* jupyter's `normalize.less` sets `[hidden] { display: none; }` but bootstrap.min.css set `[hidden] { display: none !important; }` so we also need the `!important` here to be able to override the default hidden behavior on the sphinx rendered scikit-learn.org. See: https://github.com/scikit-learn/scikit-learn/issues/21755 */display: inline-block !important;position: relative;}#sk-container-id-39 div.sk-text-repr-fallback {display: none;}</style><div id=\"sk-container-id-39\" class=\"sk-top-container\"><div class=\"sk-text-repr-fallback\"><pre>RandomForestRegressor(random_state=42)</pre><b>In a Jupyter environment, please rerun this cell to show the HTML representation or trust the notebook. <br />On GitHub, the HTML representation is unable to render, please try loading this page with nbviewer.org.</b></div><div class=\"sk-container\" hidden><div class=\"sk-item\"><div class=\"sk-estimator sk-toggleable\"><input class=\"sk-toggleable__control sk-hidden--visually\" id=\"sk-estimator-id-39\" type=\"checkbox\" checked><label for=\"sk-estimator-id-39\" class=\"sk-toggleable__label sk-toggleable__label-arrow\">RandomForestRegressor</label><div class=\"sk-toggleable__content\"><pre>RandomForestRegressor(random_state=42)</pre></div></div></div></div></div>"
      ],
      "text/plain": [
       "RandomForestRegressor(random_state=42)"
      ]
     },
     "execution_count": 521,
     "metadata": {},
     "output_type": "execute_result"
    }
   ],
   "source": [
    "# Treinando o modelo com regressão linear usando Random Forest.\n",
    "\n",
    "rf = RandomForestRegressor(n_estimators=100, random_state=42)\n",
    "rf.fit(x_train,y_train)"
   ]
  },
  {
   "cell_type": "code",
   "execution_count": 522,
   "id": "0cb2ddfb",
   "metadata": {},
   "outputs": [],
   "source": [
    "# Usando o metódo Random Forest nos dados de teste.\n",
    "pred_rf = rf.predict(x_test)"
   ]
  },
  {
   "cell_type": "code",
   "execution_count": 523,
   "id": "b394693e",
   "metadata": {},
   "outputs": [
    {
     "name": "stdout",
     "output_type": "stream",
     "text": [
      "Coeficiente de Determinação (R²): 0.9910855774675126\n",
      "\n",
      "MAE: 0.8063314285714261\n",
      "MSE: 1.0835591040000052\n",
      "RMSE: 1.0409414508030723\n"
     ]
    }
   ],
   "source": [
    "# Avaliando a qualidade do modelo.\n",
    "\n",
    "r_sq_rf = rf.score(x,y)\n",
    "print('Coeficiente de Determinação (R²):', r_sq_rf)\n",
    "print()\n",
    "print('MAE:', metrics.mean_absolute_error(y_test, pred_rf))\n",
    "print('MSE:', metrics.mean_squared_error(y_test, pred_rf))\n",
    "print('RMSE:', np.sqrt(metrics.mean_squared_error(y_test, pred_rf)))"
   ]
  },
  {
   "cell_type": "markdown",
   "id": "16f43b24",
   "metadata": {},
   "source": [
    "## Treino com AdaBoost"
   ]
  },
  {
   "cell_type": "code",
   "execution_count": 524,
   "id": "701b8a19",
   "metadata": {},
   "outputs": [
    {
     "data": {
      "text/html": [
       "<style>#sk-container-id-40 {color: black;background-color: white;}#sk-container-id-40 pre{padding: 0;}#sk-container-id-40 div.sk-toggleable {background-color: white;}#sk-container-id-40 label.sk-toggleable__label {cursor: pointer;display: block;width: 100%;margin-bottom: 0;padding: 0.3em;box-sizing: border-box;text-align: center;}#sk-container-id-40 label.sk-toggleable__label-arrow:before {content: \"▸\";float: left;margin-right: 0.25em;color: #696969;}#sk-container-id-40 label.sk-toggleable__label-arrow:hover:before {color: black;}#sk-container-id-40 div.sk-estimator:hover label.sk-toggleable__label-arrow:before {color: black;}#sk-container-id-40 div.sk-toggleable__content {max-height: 0;max-width: 0;overflow: hidden;text-align: left;background-color: #f0f8ff;}#sk-container-id-40 div.sk-toggleable__content pre {margin: 0.2em;color: black;border-radius: 0.25em;background-color: #f0f8ff;}#sk-container-id-40 input.sk-toggleable__control:checked~div.sk-toggleable__content {max-height: 200px;max-width: 100%;overflow: auto;}#sk-container-id-40 input.sk-toggleable__control:checked~label.sk-toggleable__label-arrow:before {content: \"▾\";}#sk-container-id-40 div.sk-estimator input.sk-toggleable__control:checked~label.sk-toggleable__label {background-color: #d4ebff;}#sk-container-id-40 div.sk-label input.sk-toggleable__control:checked~label.sk-toggleable__label {background-color: #d4ebff;}#sk-container-id-40 input.sk-hidden--visually {border: 0;clip: rect(1px 1px 1px 1px);clip: rect(1px, 1px, 1px, 1px);height: 1px;margin: -1px;overflow: hidden;padding: 0;position: absolute;width: 1px;}#sk-container-id-40 div.sk-estimator {font-family: monospace;background-color: #f0f8ff;border: 1px dotted black;border-radius: 0.25em;box-sizing: border-box;margin-bottom: 0.5em;}#sk-container-id-40 div.sk-estimator:hover {background-color: #d4ebff;}#sk-container-id-40 div.sk-parallel-item::after {content: \"\";width: 100%;border-bottom: 1px solid gray;flex-grow: 1;}#sk-container-id-40 div.sk-label:hover label.sk-toggleable__label {background-color: #d4ebff;}#sk-container-id-40 div.sk-serial::before {content: \"\";position: absolute;border-left: 1px solid gray;box-sizing: border-box;top: 0;bottom: 0;left: 50%;z-index: 0;}#sk-container-id-40 div.sk-serial {display: flex;flex-direction: column;align-items: center;background-color: white;padding-right: 0.2em;padding-left: 0.2em;position: relative;}#sk-container-id-40 div.sk-item {position: relative;z-index: 1;}#sk-container-id-40 div.sk-parallel {display: flex;align-items: stretch;justify-content: center;background-color: white;position: relative;}#sk-container-id-40 div.sk-item::before, #sk-container-id-40 div.sk-parallel-item::before {content: \"\";position: absolute;border-left: 1px solid gray;box-sizing: border-box;top: 0;bottom: 0;left: 50%;z-index: -1;}#sk-container-id-40 div.sk-parallel-item {display: flex;flex-direction: column;z-index: 1;position: relative;background-color: white;}#sk-container-id-40 div.sk-parallel-item:first-child::after {align-self: flex-end;width: 50%;}#sk-container-id-40 div.sk-parallel-item:last-child::after {align-self: flex-start;width: 50%;}#sk-container-id-40 div.sk-parallel-item:only-child::after {width: 0;}#sk-container-id-40 div.sk-dashed-wrapped {border: 1px dashed gray;margin: 0 0.4em 0.5em 0.4em;box-sizing: border-box;padding-bottom: 0.4em;background-color: white;}#sk-container-id-40 div.sk-label label {font-family: monospace;font-weight: bold;display: inline-block;line-height: 1.2em;}#sk-container-id-40 div.sk-label-container {text-align: center;}#sk-container-id-40 div.sk-container {/* jupyter's `normalize.less` sets `[hidden] { display: none; }` but bootstrap.min.css set `[hidden] { display: none !important; }` so we also need the `!important` here to be able to override the default hidden behavior on the sphinx rendered scikit-learn.org. See: https://github.com/scikit-learn/scikit-learn/issues/21755 */display: inline-block !important;position: relative;}#sk-container-id-40 div.sk-text-repr-fallback {display: none;}</style><div id=\"sk-container-id-40\" class=\"sk-top-container\"><div class=\"sk-text-repr-fallback\"><pre>AdaBoostRegressor(n_estimators=100, random_state=42)</pre><b>In a Jupyter environment, please rerun this cell to show the HTML representation or trust the notebook. <br />On GitHub, the HTML representation is unable to render, please try loading this page with nbviewer.org.</b></div><div class=\"sk-container\" hidden><div class=\"sk-item\"><div class=\"sk-estimator sk-toggleable\"><input class=\"sk-toggleable__control sk-hidden--visually\" id=\"sk-estimator-id-40\" type=\"checkbox\" checked><label for=\"sk-estimator-id-40\" class=\"sk-toggleable__label sk-toggleable__label-arrow\">AdaBoostRegressor</label><div class=\"sk-toggleable__content\"><pre>AdaBoostRegressor(n_estimators=100, random_state=42)</pre></div></div></div></div></div>"
      ],
      "text/plain": [
       "AdaBoostRegressor(n_estimators=100, random_state=42)"
      ]
     },
     "execution_count": 524,
     "metadata": {},
     "output_type": "execute_result"
    }
   ],
   "source": [
    "ab = AdaBoostRegressor(n_estimators=100, random_state=42)\n",
    "ab.fit(x_train,y_train)"
   ]
  },
  {
   "cell_type": "code",
   "execution_count": 525,
   "id": "b5b1e177",
   "metadata": {},
   "outputs": [],
   "source": [
    "# Predizendo os dados de teste.\n",
    "ab_pred = ab.predict(x_test)"
   ]
  },
  {
   "cell_type": "code",
   "execution_count": 526,
   "id": "3e4b1660",
   "metadata": {},
   "outputs": [
    {
     "name": "stdout",
     "output_type": "stream",
     "text": [
      "Coeficiente de Determinação (R²): 0.9753706137339516\n",
      "\n",
      "MAE: 1.0404972419356207\n",
      "MSE: 1.5428983382897943\n",
      "RMSE: 1.2421345894426232\n"
     ]
    }
   ],
   "source": [
    "# Avaliando a qualidade do modelo.\n",
    "\n",
    "r_sq_ab = ab.score(x,y)\n",
    "print('Coeficiente de Determinação (R²):', r_sq_ab)\n",
    "print()\n",
    "print('MAE:', metrics.mean_absolute_error(y_test, ab_pred))\n",
    "print('MSE:', metrics.mean_squared_error(y_test, ab_pred))\n",
    "print('RMSE:', np.sqrt(metrics.mean_squared_error(y_test, ab_pred)))"
   ]
  },
  {
   "cell_type": "markdown",
   "id": "ac5cbcfc",
   "metadata": {},
   "source": [
    "## Treino com Gradient Boosting Regressor"
   ]
  },
  {
   "cell_type": "code",
   "execution_count": 527,
   "id": "93bb3804",
   "metadata": {},
   "outputs": [],
   "source": [
    "gd = GradientBoostingRegressor(n_estimators=100, random_state=42)\n",
    "gd = gd.fit(x_train, y_train)"
   ]
  },
  {
   "cell_type": "code",
   "execution_count": 528,
   "id": "a34aca62",
   "metadata": {},
   "outputs": [],
   "source": [
    "# Predizendo os dados de teste.\n",
    "\n",
    "gd_pred = gd.predict(x_test)"
   ]
  },
  {
   "cell_type": "code",
   "execution_count": 529,
   "id": "579d86ae",
   "metadata": {},
   "outputs": [
    {
     "name": "stdout",
     "output_type": "stream",
     "text": [
      "Coeficiente de Determinação (R²): 0.9949776864315343\n",
      "\n",
      "MAE: 0.6720118326092344\n",
      "MSE: 0.8239521887275911\n",
      "RMSE: 0.9077181218459788\n"
     ]
    }
   ],
   "source": [
    "# Avaliando a qualidade do modelo.\n",
    "\n",
    "r_sq_gd = gd.score(x,y)\n",
    "print('Coeficiente de Determinação (R²):', r_sq_gd)\n",
    "print()\n",
    "print('MAE:', metrics.mean_absolute_error(y_test, gd_pred))\n",
    "print('MSE:', metrics.mean_squared_error(y_test, gd_pred))\n",
    "print('RMSE:', np.sqrt(metrics.mean_squared_error(y_test, gd_pred)))"
   ]
  },
  {
   "cell_type": "markdown",
   "id": "7034a259",
   "metadata": {},
   "source": [
    "### Análise das florestas:"
   ]
  },
  {
   "cell_type": "markdown",
   "id": "6d856547",
   "metadata": {},
   "source": [
    "Ao compararmos as métricas dos diferentes modelos construídos, concluímos que a técnica de floresta apresenta resultados mais satisfatórios, e em particular, o modelo Gradient Boosting Regressor se destaca como o líder em termos de desempenho."
   ]
  },
  {
   "cell_type": "markdown",
   "id": "422687ca",
   "metadata": {},
   "source": [
    "# Análise Final"
   ]
  },
  {
   "cell_type": "markdown",
   "id": "ba64ff9b",
   "metadata": {},
   "source": [
    "Ao analisar todos os indicadores presentes no DataFrame, fica perceptível que o retorno sobre os investimentos em marketing está baixo, indicando a necessidade de reavaliar a estratégia adotada. Ao longo do período analisado, foram investidos um total de R\\\\$ 41.199,48, porém o faturamento obtido foi de apenas R\\\\$ 2.893,80, resultando em um ROI (Retorno sobre Investimento) de 0.0702.  \n",
    "\n",
    "Uma observação relevante é que os valores das vendas apresentaram um baixo desvio padrão de 6.31, indicando que tiveram pouca amplitude ao longo do período analisado e demonstram uma série estacionária, e não apresenta tendência. Isso sugere que a estratégia de marketing atual não está gerando alteração expressiva nos resultados.  \n",
    "\n",
    "Com o objetivo de melhorar o ROI, é recomendado a realocação de recursos entre os canais de marketing. Sugere-se descontinuar os investimentos em jornais e alocar esses recursos no Facebook, pois este canal apresenta um coeficiente melhor (0.1884) em comparação ao jornal (0.0043). Para embasar essa decisão, foi utilizado um modelo de gradient boosting que foi previamente treinado. Com essa realocação de recursos, ao simular o novo cenário proposto, foram obtidos excelentes resultados, representados por um aumento de ganho de R\\\\$ 577.33, o que corresponde a um aumento de 19,95\\% no faturamento. \n",
    "\n",
    "Para melhorar a qualidade dos dados, é aconselhável registrar a data de cada ocorrência no DataFrame. Isso permitirá evoluir a qualidade das análises e das previsões, uma vez que será possível associar os eventos com fatores externos, melhorar a construção dos gráficos de linha e entender a regularidade temporal dos resultados.  \n",
    "\n",
    "Além da análise da distribuição de recursos por canais de marketing, é uma excelente ideia classificar os formatos, conteúdos, personas, datas de lançamento, entre outros do material divulgado para ampliar ainda mais os resultados. E assim utilizar machine learning para avaliar o potencial de cada material em gerar resultados de vendas."
   ]
  },
  {
   "cell_type": "markdown",
   "id": "380e3257",
   "metadata": {},
   "source": [
    "## Predizendo o novo cenário proposto"
   ]
  },
  {
   "cell_type": "code",
   "execution_count": 530,
   "id": "5535ad9f",
   "metadata": {},
   "outputs": [],
   "source": [
    "# Novo df em que os recursos da coluna newspaper foram transferidos integralmente para o facebook.\n",
    "\n",
    "mkt2 = mkt[:]\n",
    "mkt2['facebook'] = mkt['facebook'] + mkt['newspaper']\n",
    "mkt2.drop('newspaper' , axis=1, inplace=True)"
   ]
  },
  {
   "cell_type": "code",
   "execution_count": 531,
   "id": "da53d932",
   "metadata": {},
   "outputs": [],
   "source": [
    "# Definindo as variáveis x e y usando o novo df \"mkt2\"\n",
    "\n",
    "y= mkt2.sales\n",
    "x= sm.add_constant(mkt2[['youtube', 'facebook']])"
   ]
  },
  {
   "cell_type": "code",
   "execution_count": 532,
   "id": "1bad58a5",
   "metadata": {},
   "outputs": [],
   "source": [
    "#Predizendo os novos valores de vendas baseados no novo cenario, utilizando o modelo Gradient Boosting treinado anteriomente.\n",
    "\n",
    "gd_pred2 = gd.predict(x)"
   ]
  },
  {
   "cell_type": "code",
   "execution_count": 533,
   "id": "cd34c45e",
   "metadata": {
    "scrolled": true
   },
   "outputs": [
    {
     "data": {
      "text/html": [
       "<div>\n",
       "<style scoped>\n",
       "    .dataframe tbody tr th:only-of-type {\n",
       "        vertical-align: middle;\n",
       "    }\n",
       "\n",
       "    .dataframe tbody tr th {\n",
       "        vertical-align: top;\n",
       "    }\n",
       "\n",
       "    .dataframe thead th {\n",
       "        text-align: right;\n",
       "    }\n",
       "</style>\n",
       "<table border=\"1\" class=\"dataframe\">\n",
       "  <thead>\n",
       "    <tr style=\"text-align: right;\">\n",
       "      <th></th>\n",
       "      <th>youtube</th>\n",
       "      <th>facebook</th>\n",
       "      <th>sales</th>\n",
       "      <th>novas_vendas</th>\n",
       "      <th>comparação</th>\n",
       "    </tr>\n",
       "  </thead>\n",
       "  <tbody>\n",
       "    <tr>\n",
       "      <th>0</th>\n",
       "      <td>84.72</td>\n",
       "      <td>68.16</td>\n",
       "      <td>12.60</td>\n",
       "      <td>15.602550</td>\n",
       "      <td>1.238298</td>\n",
       "    </tr>\n",
       "    <tr>\n",
       "      <th>1</th>\n",
       "      <td>351.48</td>\n",
       "      <td>85.80</td>\n",
       "      <td>25.68</td>\n",
       "      <td>32.369334</td>\n",
       "      <td>1.260488</td>\n",
       "    </tr>\n",
       "    <tr>\n",
       "      <th>2</th>\n",
       "      <td>135.48</td>\n",
       "      <td>67.20</td>\n",
       "      <td>14.28</td>\n",
       "      <td>20.586111</td>\n",
       "      <td>1.441604</td>\n",
       "    </tr>\n",
       "    <tr>\n",
       "      <th>3</th>\n",
       "      <td>116.64</td>\n",
       "      <td>37.80</td>\n",
       "      <td>11.52</td>\n",
       "      <td>16.044034</td>\n",
       "      <td>1.392711</td>\n",
       "    </tr>\n",
       "    <tr>\n",
       "      <th>4</th>\n",
       "      <td>318.72</td>\n",
       "      <td>24.36</td>\n",
       "      <td>20.88</td>\n",
       "      <td>19.712689</td>\n",
       "      <td>0.944094</td>\n",
       "    </tr>\n",
       "  </tbody>\n",
       "</table>\n",
       "</div>"
      ],
      "text/plain": [
       "   youtube  facebook  sales  novas_vendas  comparação\n",
       "0    84.72     68.16  12.60     15.602550    1.238298\n",
       "1   351.48     85.80  25.68     32.369334    1.260488\n",
       "2   135.48     67.20  14.28     20.586111    1.441604\n",
       "3   116.64     37.80  11.52     16.044034    1.392711\n",
       "4   318.72     24.36  20.88     19.712689    0.944094"
      ]
     },
     "execution_count": 533,
     "metadata": {},
     "output_type": "execute_result"
    }
   ],
   "source": [
    "# Inserindo as predições no df \"mkt2\" \n",
    "\n",
    "mkt2['novas_vendas'] = gd_pred2\n",
    "\n",
    "# Criando uma coluna que compara os valores preditos com os reais.\n",
    "\n",
    "mkt2['comparação'] = mkt2['novas_vendas']/mkt2['sales']\n",
    "mkt2.head()"
   ]
  },
  {
   "cell_type": "markdown",
   "id": "07f87430",
   "metadata": {},
   "source": [
    "### Avaliando os resultados da predições."
   ]
  },
  {
   "cell_type": "code",
   "execution_count": 534,
   "id": "b1994ffe",
   "metadata": {},
   "outputs": [
    {
     "name": "stdout",
     "output_type": "stream",
     "text": [
      "count    171.000000\n",
      "mean       1.224367\n",
      "std        0.221304\n",
      "min        0.883719\n",
      "25%        1.066491\n",
      "50%        1.174740\n",
      "75%        1.299085\n",
      "max        2.086732\n",
      "Name: comparação, dtype: float64\n"
     ]
    },
    {
     "data": {
      "text/plain": [
       "'\\n- média de aumento muito boa, com 22,4%.\\n- Desvio padrão normal, com 0,22.\\n- E ganho de peformace de até 208%.\\n'"
      ]
     },
     "execution_count": 534,
     "metadata": {},
     "output_type": "execute_result"
    }
   ],
   "source": [
    "print(mkt2['comparação'].describe())\n",
    "\n",
    "'''\n",
    "- média de aumento muito boa, com 22,4%.\n",
    "- Desvio padrão normal, com 0,22.\n",
    "- E ganho de peformace de até 208%.\n",
    "'''"
   ]
  },
  {
   "cell_type": "code",
   "execution_count": 535,
   "id": "8993c2f5",
   "metadata": {},
   "outputs": [
    {
     "name": "stdout",
     "output_type": "stream",
     "text": [
      "Qº com performance negativa: 13\n"
     ]
    },
    {
     "data": {
      "text/html": [
       "<div>\n",
       "<style scoped>\n",
       "    .dataframe tbody tr th:only-of-type {\n",
       "        vertical-align: middle;\n",
       "    }\n",
       "\n",
       "    .dataframe tbody tr th {\n",
       "        vertical-align: top;\n",
       "    }\n",
       "\n",
       "    .dataframe thead th {\n",
       "        text-align: right;\n",
       "    }\n",
       "</style>\n",
       "<table border=\"1\" class=\"dataframe\">\n",
       "  <thead>\n",
       "    <tr style=\"text-align: right;\">\n",
       "      <th></th>\n",
       "      <th>youtube</th>\n",
       "      <th>facebook</th>\n",
       "      <th>sales</th>\n",
       "      <th>novas_vendas</th>\n",
       "      <th>comparação</th>\n",
       "    </tr>\n",
       "  </thead>\n",
       "  <tbody>\n",
       "    <tr>\n",
       "      <th>4</th>\n",
       "      <td>318.72</td>\n",
       "      <td>24.36</td>\n",
       "      <td>20.88</td>\n",
       "      <td>19.712689</td>\n",
       "      <td>0.944094</td>\n",
       "    </tr>\n",
       "    <tr>\n",
       "      <th>8</th>\n",
       "      <td>89.64</td>\n",
       "      <td>114.12</td>\n",
       "      <td>17.64</td>\n",
       "      <td>16.982107</td>\n",
       "      <td>0.962704</td>\n",
       "    </tr>\n",
       "    <tr>\n",
       "      <th>26</th>\n",
       "      <td>238.68</td>\n",
       "      <td>131.28</td>\n",
       "      <td>28.44</td>\n",
       "      <td>26.236431</td>\n",
       "      <td>0.922519</td>\n",
       "    </tr>\n",
       "    <tr>\n",
       "      <th>37</th>\n",
       "      <td>37.80</td>\n",
       "      <td>32.16</td>\n",
       "      <td>11.40</td>\n",
       "      <td>10.751046</td>\n",
       "      <td>0.943074</td>\n",
       "    </tr>\n",
       "    <tr>\n",
       "      <th>49</th>\n",
       "      <td>6.48</td>\n",
       "      <td>47.16</td>\n",
       "      <td>6.36</td>\n",
       "      <td>6.161793</td>\n",
       "      <td>0.968835</td>\n",
       "    </tr>\n",
       "    <tr>\n",
       "      <th>54</th>\n",
       "      <td>82.08</td>\n",
       "      <td>96.12</td>\n",
       "      <td>16.32</td>\n",
       "      <td>14.422290</td>\n",
       "      <td>0.883719</td>\n",
       "    </tr>\n",
       "    <tr>\n",
       "      <th>76</th>\n",
       "      <td>165.48</td>\n",
       "      <td>126.48</td>\n",
       "      <td>23.04</td>\n",
       "      <td>22.312805</td>\n",
       "      <td>0.968438</td>\n",
       "    </tr>\n",
       "    <tr>\n",
       "      <th>85</th>\n",
       "      <td>93.84</td>\n",
       "      <td>97.56</td>\n",
       "      <td>17.52</td>\n",
       "      <td>17.470310</td>\n",
       "      <td>0.997164</td>\n",
       "    </tr>\n",
       "    <tr>\n",
       "      <th>99</th>\n",
       "      <td>264.36</td>\n",
       "      <td>62.64</td>\n",
       "      <td>29.64</td>\n",
       "      <td>29.425075</td>\n",
       "      <td>0.992749</td>\n",
       "    </tr>\n",
       "    <tr>\n",
       "      <th>103</th>\n",
       "      <td>10.08</td>\n",
       "      <td>35.16</td>\n",
       "      <td>6.84</td>\n",
       "      <td>6.638968</td>\n",
       "      <td>0.970609</td>\n",
       "    </tr>\n",
       "    <tr>\n",
       "      <th>118</th>\n",
       "      <td>291.84</td>\n",
       "      <td>111.96</td>\n",
       "      <td>30.48</td>\n",
       "      <td>29.755213</td>\n",
       "      <td>0.976221</td>\n",
       "    </tr>\n",
       "    <tr>\n",
       "      <th>146</th>\n",
       "      <td>332.28</td>\n",
       "      <td>108.84</td>\n",
       "      <td>32.40</td>\n",
       "      <td>32.245353</td>\n",
       "      <td>0.995227</td>\n",
       "    </tr>\n",
       "    <tr>\n",
       "      <th>159</th>\n",
       "      <td>343.20</td>\n",
       "      <td>21.12</td>\n",
       "      <td>19.08</td>\n",
       "      <td>18.954435</td>\n",
       "      <td>0.993419</td>\n",
       "    </tr>\n",
       "  </tbody>\n",
       "</table>\n",
       "</div>"
      ],
      "text/plain": [
       "     youtube  facebook  sales  novas_vendas  comparação\n",
       "4     318.72     24.36  20.88     19.712689    0.944094\n",
       "8      89.64    114.12  17.64     16.982107    0.962704\n",
       "26    238.68    131.28  28.44     26.236431    0.922519\n",
       "37     37.80     32.16  11.40     10.751046    0.943074\n",
       "49      6.48     47.16   6.36      6.161793    0.968835\n",
       "54     82.08     96.12  16.32     14.422290    0.883719\n",
       "76    165.48    126.48  23.04     22.312805    0.968438\n",
       "85     93.84     97.56  17.52     17.470310    0.997164\n",
       "99    264.36     62.64  29.64     29.425075    0.992749\n",
       "103    10.08     35.16   6.84      6.638968    0.970609\n",
       "118   291.84    111.96  30.48     29.755213    0.976221\n",
       "146   332.28    108.84  32.40     32.245353    0.995227\n",
       "159   343.20     21.12  19.08     18.954435    0.993419"
      ]
     },
     "metadata": {},
     "output_type": "display_data"
    }
   ],
   "source": [
    "# 13 registro apresentaram uma perda de resultados.\n",
    "\n",
    "print('Qº com performance negativa:', len(mkt2[mkt2['comparação'] <= 1]))\n",
    "display(mkt2[mkt2['comparação'] <= 1])"
   ]
  },
  {
   "cell_type": "code",
   "execution_count": 536,
   "id": "354bd369",
   "metadata": {},
   "outputs": [
    {
     "data": {
      "image/png": "[encoded data removed]",
      "text/plain": [
       "<Figure size 600x400 with 1 Axes>"
      ]
     },
     "metadata": {},
     "output_type": "display_data"
    }
   ],
   "source": [
    "# distribuição dos valores da nova peformace.\n",
    "\n",
    "plt.figure(figsize=(6,4))\n",
    "hist = sns.histplot(data=mkt2, x=\"comparação\", kde=True)\n",
    "hist.axvline(x=1, color='r', linestyle='--')\n",
    "plt.show()"
   ]
  },
  {
   "cell_type": "code",
   "execution_count": 560,
   "id": "7b2b27ae",
   "metadata": {},
   "outputs": [
    {
     "name": "stdout",
     "output_type": "stream",
     "text": [
      "Faturamento total real: 2893.8\n",
      "Faturamento total predito 3471.13\n",
      "Valor bruto da variação de faturamento: 577.33\n",
      "% da variação de faturamento 0.1995\n"
     ]
    }
   ],
   "source": [
    "#Comparação da variação do faturamento de vendas.\n",
    "\n",
    "novas_vendas_soma = mkt2['novas_vendas'].sum()\n",
    "\n",
    "print('Faturamento total real:',round(sales_soma,2))\n",
    "print('Faturamento total predito',round(novas_vendas_soma,2))\n",
    "print('Valor bruto da variação de faturamento:',round(novas_vendas_soma-sales_soma,2))\n",
    "print('% da variação de faturamento',round((novas_vendas_soma-sales_soma)/sales_soma,4))\n"
   ]
  }
 ],
 "metadata": {
  "kernelspec": {
   "display_name": "Python 3 (ipykernel)",
   "language": "python",
   "name": "python3"
  },
  "language_info": {
   "codemirror_mode": {
    "name": "ipython",
    "version": 3
   },
   "file_extension": ".py",
   "mimetype": "text/x-python",
   "name": "python",
   "nbconvert_exporter": "python",
   "pygments_lexer": "ipython3",
   "version": "3.11.1"
  }
 },
 "nbformat": 4,
 "nbformat_minor": 5
}
